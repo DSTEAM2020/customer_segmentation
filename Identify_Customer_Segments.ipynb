{
 "cells": [
  {
   "cell_type": "markdown",
   "metadata": {},
   "source": [
    "# Project: Identify Customer Segments\n",
    "\n",
    "In this project, you will apply unsupervised learning techniques to identify segments of the population that form the core customer base for a mail-order sales company in Germany. These segments can then be used to direct marketing campaigns towards audiences that will have the highest expected rate of returns. The data that you will use has been provided by our partners at Bertelsmann Arvato Analytics, and represents a real-life data science task.\n",
    "\n",
    "This notebook will help you complete this task by providing a framework within which you will perform your analysis steps. In each step of the project, you will see some text describing the subtask that you will perform, followed by one or more code cells for you to complete your work. **Feel free to add additional code and markdown cells as you go along so that you can explore everything in precise chunks.** The code cells provided in the base template will outline only the major tasks, and will usually not be enough to cover all of the minor tasks that comprise it.\n",
    "\n",
    "It should be noted that while there will be precise guidelines on how you should handle certain tasks in the project, there will also be places where an exact specification is not provided. **There will be times in the project where you will need to make and justify your own decisions on how to treat the data.** These are places where there may not be only one way to handle the data. In real-life tasks, there may be many valid ways to approach an analysis task. One of the most important things you can do is clearly document your approach so that other scientists can understand the decisions you've made.\n",
    "\n",
    "At the end of most sections, there will be a Markdown cell labeled **Discussion**. In these cells, you will report your findings for the completed section, as well as document the decisions that you made in your approach to each subtask. **Your project will be evaluated not just on the code used to complete the tasks outlined, but also your communication about your observations and conclusions at each stage.**"
   ]
  },
  {
   "cell_type": "code",
   "execution_count": 1,
   "metadata": {},
   "outputs": [],
   "source": [
    "# import libraries here; add more as necessary\n",
    "import numpy as np\n",
    "import pandas as pd\n",
    "import matplotlib.pyplot as plt\n",
    "import seaborn as sns\n",
    "import collections\n",
    "from sklearn.preprocessing import OneHotEncoder\n",
    "from sklearn.preprocessing import Imputer\n",
    "from sklearn.preprocessing import StandardScaler\n",
    "from sklearn.decomposition import PCA\n",
    "from sklearn.cluster import KMeans\n",
    "\n",
    "# magic word for producing visualizations in notebook\n",
    "%matplotlib inline"
   ]
  },
  {
   "cell_type": "markdown",
   "metadata": {},
   "source": [
    "### Step 0: Load the Data\n",
    "\n",
    "There are four files associated with this project (not including this one):\n",
    "\n",
    "- `Udacity_AZDIAS_Subset.csv`: Demographics data for the general population of Germany; 891211 persons (rows) x 85 features (columns).\n",
    "- `Udacity_CUSTOMERS_Subset.csv`: Demographics data for customers of a mail-order company; 191652 persons (rows) x 85 features (columns).\n",
    "- `Data_Dictionary.md`: Detailed information file about the features in the provided datasets.\n",
    "- `AZDIAS_Feature_Summary.csv`: Summary of feature attributes for demographics data; 85 features (rows) x 4 columns\n",
    "\n",
    "Each row of the demographics files represents a single person, but also includes information outside of individuals, including information about their household, building, and neighborhood. You will use this information to cluster the general population into groups with similar demographic properties. Then, you will see how the people in the customers dataset fit into those created clusters. The hope here is that certain clusters are over-represented in the customers data, as compared to the general population; those over-represented clusters will be assumed to be part of the core userbase. This information can then be used for further applications, such as targeting for a marketing campaign.\n",
    "\n",
    "To start off with, load in the demographics data for the general population into a pandas DataFrame, and do the same for the feature attributes summary. Note for all of the `.csv` data files in this project: they're semicolon (`;`) delimited, so you'll need an additional argument in your [`read_csv()`](https://pandas.pydata.org/pandas-docs/stable/generated/pandas.read_csv.html) call to read in the data properly. Also, considering the size of the main dataset, it may take some time for it to load completely.\n",
    "\n",
    "Once the dataset is loaded, it's recommended that you take a little bit of time just browsing the general structure of the dataset and feature summary file. You'll be getting deep into the innards of the cleaning in the first major step of the project, so gaining some general familiarity can help you get your bearings."
   ]
  },
  {
   "cell_type": "code",
   "execution_count": 2,
   "metadata": {},
   "outputs": [],
   "source": [
    "# Load in the general demographics data.\n",
    "azdias = pd.read_csv('Udacity_AZDIAS_Subset.csv', sep=';')\n",
    "\n",
    "# Load in the feature summary file.\n",
    "feat_info = pd.read_csv('AZDIAS_Feature_Summary.csv', sep=';')"
   ]
  },
  {
   "cell_type": "code",
   "execution_count": 3,
   "metadata": {},
   "outputs": [
    {
     "data": {
      "text/html": [
       "<div>\n",
       "<style>\n",
       "    .dataframe thead tr:only-child th {\n",
       "        text-align: right;\n",
       "    }\n",
       "\n",
       "    .dataframe thead th {\n",
       "        text-align: left;\n",
       "    }\n",
       "\n",
       "    .dataframe tbody tr th {\n",
       "        vertical-align: top;\n",
       "    }\n",
       "</style>\n",
       "<table border=\"1\" class=\"dataframe\">\n",
       "  <thead>\n",
       "    <tr style=\"text-align: right;\">\n",
       "      <th></th>\n",
       "      <th>AGER_TYP</th>\n",
       "      <th>ALTERSKATEGORIE_GROB</th>\n",
       "      <th>ANREDE_KZ</th>\n",
       "      <th>CJT_GESAMTTYP</th>\n",
       "      <th>FINANZ_MINIMALIST</th>\n",
       "      <th>FINANZ_SPARER</th>\n",
       "      <th>FINANZ_VORSORGER</th>\n",
       "      <th>FINANZ_ANLEGER</th>\n",
       "      <th>FINANZ_UNAUFFAELLIGER</th>\n",
       "      <th>FINANZ_HAUSBAUER</th>\n",
       "      <th>...</th>\n",
       "      <th>PLZ8_ANTG1</th>\n",
       "      <th>PLZ8_ANTG2</th>\n",
       "      <th>PLZ8_ANTG3</th>\n",
       "      <th>PLZ8_ANTG4</th>\n",
       "      <th>PLZ8_BAUMAX</th>\n",
       "      <th>PLZ8_HHZ</th>\n",
       "      <th>PLZ8_GBZ</th>\n",
       "      <th>ARBEIT</th>\n",
       "      <th>ORTSGR_KLS9</th>\n",
       "      <th>RELAT_AB</th>\n",
       "    </tr>\n",
       "  </thead>\n",
       "  <tbody>\n",
       "    <tr>\n",
       "      <th>0</th>\n",
       "      <td>-1</td>\n",
       "      <td>2</td>\n",
       "      <td>1</td>\n",
       "      <td>2.0</td>\n",
       "      <td>3</td>\n",
       "      <td>4</td>\n",
       "      <td>3</td>\n",
       "      <td>5</td>\n",
       "      <td>5</td>\n",
       "      <td>3</td>\n",
       "      <td>...</td>\n",
       "      <td>NaN</td>\n",
       "      <td>NaN</td>\n",
       "      <td>NaN</td>\n",
       "      <td>NaN</td>\n",
       "      <td>NaN</td>\n",
       "      <td>NaN</td>\n",
       "      <td>NaN</td>\n",
       "      <td>NaN</td>\n",
       "      <td>NaN</td>\n",
       "      <td>NaN</td>\n",
       "    </tr>\n",
       "    <tr>\n",
       "      <th>1</th>\n",
       "      <td>-1</td>\n",
       "      <td>1</td>\n",
       "      <td>2</td>\n",
       "      <td>5.0</td>\n",
       "      <td>1</td>\n",
       "      <td>5</td>\n",
       "      <td>2</td>\n",
       "      <td>5</td>\n",
       "      <td>4</td>\n",
       "      <td>5</td>\n",
       "      <td>...</td>\n",
       "      <td>2.0</td>\n",
       "      <td>3.0</td>\n",
       "      <td>2.0</td>\n",
       "      <td>1.0</td>\n",
       "      <td>1.0</td>\n",
       "      <td>5.0</td>\n",
       "      <td>4.0</td>\n",
       "      <td>3.0</td>\n",
       "      <td>5.0</td>\n",
       "      <td>4.0</td>\n",
       "    </tr>\n",
       "    <tr>\n",
       "      <th>2</th>\n",
       "      <td>-1</td>\n",
       "      <td>3</td>\n",
       "      <td>2</td>\n",
       "      <td>3.0</td>\n",
       "      <td>1</td>\n",
       "      <td>4</td>\n",
       "      <td>1</td>\n",
       "      <td>2</td>\n",
       "      <td>3</td>\n",
       "      <td>5</td>\n",
       "      <td>...</td>\n",
       "      <td>3.0</td>\n",
       "      <td>3.0</td>\n",
       "      <td>1.0</td>\n",
       "      <td>0.0</td>\n",
       "      <td>1.0</td>\n",
       "      <td>4.0</td>\n",
       "      <td>4.0</td>\n",
       "      <td>3.0</td>\n",
       "      <td>5.0</td>\n",
       "      <td>2.0</td>\n",
       "    </tr>\n",
       "    <tr>\n",
       "      <th>3</th>\n",
       "      <td>2</td>\n",
       "      <td>4</td>\n",
       "      <td>2</td>\n",
       "      <td>2.0</td>\n",
       "      <td>4</td>\n",
       "      <td>2</td>\n",
       "      <td>5</td>\n",
       "      <td>2</td>\n",
       "      <td>1</td>\n",
       "      <td>2</td>\n",
       "      <td>...</td>\n",
       "      <td>2.0</td>\n",
       "      <td>2.0</td>\n",
       "      <td>2.0</td>\n",
       "      <td>0.0</td>\n",
       "      <td>1.0</td>\n",
       "      <td>3.0</td>\n",
       "      <td>4.0</td>\n",
       "      <td>2.0</td>\n",
       "      <td>3.0</td>\n",
       "      <td>3.0</td>\n",
       "    </tr>\n",
       "    <tr>\n",
       "      <th>4</th>\n",
       "      <td>-1</td>\n",
       "      <td>3</td>\n",
       "      <td>1</td>\n",
       "      <td>5.0</td>\n",
       "      <td>4</td>\n",
       "      <td>3</td>\n",
       "      <td>4</td>\n",
       "      <td>1</td>\n",
       "      <td>3</td>\n",
       "      <td>2</td>\n",
       "      <td>...</td>\n",
       "      <td>2.0</td>\n",
       "      <td>4.0</td>\n",
       "      <td>2.0</td>\n",
       "      <td>1.0</td>\n",
       "      <td>2.0</td>\n",
       "      <td>3.0</td>\n",
       "      <td>3.0</td>\n",
       "      <td>4.0</td>\n",
       "      <td>6.0</td>\n",
       "      <td>5.0</td>\n",
       "    </tr>\n",
       "  </tbody>\n",
       "</table>\n",
       "<p>5 rows × 85 columns</p>\n",
       "</div>"
      ],
      "text/plain": [
       "   AGER_TYP  ALTERSKATEGORIE_GROB  ANREDE_KZ  CJT_GESAMTTYP  \\\n",
       "0        -1                     2          1            2.0   \n",
       "1        -1                     1          2            5.0   \n",
       "2        -1                     3          2            3.0   \n",
       "3         2                     4          2            2.0   \n",
       "4        -1                     3          1            5.0   \n",
       "\n",
       "   FINANZ_MINIMALIST  FINANZ_SPARER  FINANZ_VORSORGER  FINANZ_ANLEGER  \\\n",
       "0                  3              4                 3               5   \n",
       "1                  1              5                 2               5   \n",
       "2                  1              4                 1               2   \n",
       "3                  4              2                 5               2   \n",
       "4                  4              3                 4               1   \n",
       "\n",
       "   FINANZ_UNAUFFAELLIGER  FINANZ_HAUSBAUER    ...     PLZ8_ANTG1  PLZ8_ANTG2  \\\n",
       "0                      5                 3    ...            NaN         NaN   \n",
       "1                      4                 5    ...            2.0         3.0   \n",
       "2                      3                 5    ...            3.0         3.0   \n",
       "3                      1                 2    ...            2.0         2.0   \n",
       "4                      3                 2    ...            2.0         4.0   \n",
       "\n",
       "   PLZ8_ANTG3  PLZ8_ANTG4  PLZ8_BAUMAX  PLZ8_HHZ  PLZ8_GBZ  ARBEIT  \\\n",
       "0         NaN         NaN          NaN       NaN       NaN     NaN   \n",
       "1         2.0         1.0          1.0       5.0       4.0     3.0   \n",
       "2         1.0         0.0          1.0       4.0       4.0     3.0   \n",
       "3         2.0         0.0          1.0       3.0       4.0     2.0   \n",
       "4         2.0         1.0          2.0       3.0       3.0     4.0   \n",
       "\n",
       "   ORTSGR_KLS9  RELAT_AB  \n",
       "0          NaN       NaN  \n",
       "1          5.0       4.0  \n",
       "2          5.0       2.0  \n",
       "3          3.0       3.0  \n",
       "4          6.0       5.0  \n",
       "\n",
       "[5 rows x 85 columns]"
      ]
     },
     "execution_count": 3,
     "metadata": {},
     "output_type": "execute_result"
    }
   ],
   "source": [
    "# Check the structure of the data after it's loaded (e.g. print the number of\n",
    "# rows and columns, print the first few rows).\n",
    "azdias.head()"
   ]
  },
  {
   "cell_type": "code",
   "execution_count": 4,
   "metadata": {},
   "outputs": [
    {
     "data": {
      "text/html": [
       "<div>\n",
       "<style>\n",
       "    .dataframe thead tr:only-child th {\n",
       "        text-align: right;\n",
       "    }\n",
       "\n",
       "    .dataframe thead th {\n",
       "        text-align: left;\n",
       "    }\n",
       "\n",
       "    .dataframe tbody tr th {\n",
       "        vertical-align: top;\n",
       "    }\n",
       "</style>\n",
       "<table border=\"1\" class=\"dataframe\">\n",
       "  <thead>\n",
       "    <tr style=\"text-align: right;\">\n",
       "      <th></th>\n",
       "      <th>AGER_TYP</th>\n",
       "      <th>ALTERSKATEGORIE_GROB</th>\n",
       "      <th>ANREDE_KZ</th>\n",
       "      <th>CJT_GESAMTTYP</th>\n",
       "      <th>FINANZ_MINIMALIST</th>\n",
       "      <th>FINANZ_SPARER</th>\n",
       "      <th>FINANZ_VORSORGER</th>\n",
       "      <th>FINANZ_ANLEGER</th>\n",
       "      <th>FINANZ_UNAUFFAELLIGER</th>\n",
       "      <th>FINANZ_HAUSBAUER</th>\n",
       "      <th>...</th>\n",
       "      <th>PLZ8_ANTG1</th>\n",
       "      <th>PLZ8_ANTG2</th>\n",
       "      <th>PLZ8_ANTG3</th>\n",
       "      <th>PLZ8_ANTG4</th>\n",
       "      <th>PLZ8_BAUMAX</th>\n",
       "      <th>PLZ8_HHZ</th>\n",
       "      <th>PLZ8_GBZ</th>\n",
       "      <th>ARBEIT</th>\n",
       "      <th>ORTSGR_KLS9</th>\n",
       "      <th>RELAT_AB</th>\n",
       "    </tr>\n",
       "  </thead>\n",
       "  <tbody>\n",
       "    <tr>\n",
       "      <th>count</th>\n",
       "      <td>891221.000000</td>\n",
       "      <td>891221.000000</td>\n",
       "      <td>891221.000000</td>\n",
       "      <td>886367.000000</td>\n",
       "      <td>891221.000000</td>\n",
       "      <td>891221.000000</td>\n",
       "      <td>891221.000000</td>\n",
       "      <td>891221.000000</td>\n",
       "      <td>891221.000000</td>\n",
       "      <td>891221.000000</td>\n",
       "      <td>...</td>\n",
       "      <td>774706.000000</td>\n",
       "      <td>774706.000000</td>\n",
       "      <td>774706.000000</td>\n",
       "      <td>774706.000000</td>\n",
       "      <td>774706.000000</td>\n",
       "      <td>774706.000000</td>\n",
       "      <td>774706.000000</td>\n",
       "      <td>794005.000000</td>\n",
       "      <td>794005.000000</td>\n",
       "      <td>794005.00000</td>\n",
       "    </tr>\n",
       "    <tr>\n",
       "      <th>mean</th>\n",
       "      <td>-0.358435</td>\n",
       "      <td>2.777398</td>\n",
       "      <td>1.522098</td>\n",
       "      <td>3.632838</td>\n",
       "      <td>3.074528</td>\n",
       "      <td>2.821039</td>\n",
       "      <td>3.401106</td>\n",
       "      <td>3.033328</td>\n",
       "      <td>2.874167</td>\n",
       "      <td>3.075121</td>\n",
       "      <td>...</td>\n",
       "      <td>2.253330</td>\n",
       "      <td>2.801858</td>\n",
       "      <td>1.595426</td>\n",
       "      <td>0.699166</td>\n",
       "      <td>1.943913</td>\n",
       "      <td>3.612821</td>\n",
       "      <td>3.381087</td>\n",
       "      <td>3.167854</td>\n",
       "      <td>5.293002</td>\n",
       "      <td>3.07222</td>\n",
       "    </tr>\n",
       "    <tr>\n",
       "      <th>std</th>\n",
       "      <td>1.198724</td>\n",
       "      <td>1.068775</td>\n",
       "      <td>0.499512</td>\n",
       "      <td>1.595021</td>\n",
       "      <td>1.321055</td>\n",
       "      <td>1.464749</td>\n",
       "      <td>1.322134</td>\n",
       "      <td>1.529603</td>\n",
       "      <td>1.486731</td>\n",
       "      <td>1.353248</td>\n",
       "      <td>...</td>\n",
       "      <td>0.972008</td>\n",
       "      <td>0.920309</td>\n",
       "      <td>0.986736</td>\n",
       "      <td>0.727137</td>\n",
       "      <td>1.459654</td>\n",
       "      <td>0.973967</td>\n",
       "      <td>1.111598</td>\n",
       "      <td>1.002376</td>\n",
       "      <td>2.303739</td>\n",
       "      <td>1.36298</td>\n",
       "    </tr>\n",
       "    <tr>\n",
       "      <th>min</th>\n",
       "      <td>-1.000000</td>\n",
       "      <td>1.000000</td>\n",
       "      <td>1.000000</td>\n",
       "      <td>1.000000</td>\n",
       "      <td>1.000000</td>\n",
       "      <td>1.000000</td>\n",
       "      <td>1.000000</td>\n",
       "      <td>1.000000</td>\n",
       "      <td>1.000000</td>\n",
       "      <td>1.000000</td>\n",
       "      <td>...</td>\n",
       "      <td>0.000000</td>\n",
       "      <td>0.000000</td>\n",
       "      <td>0.000000</td>\n",
       "      <td>0.000000</td>\n",
       "      <td>1.000000</td>\n",
       "      <td>1.000000</td>\n",
       "      <td>1.000000</td>\n",
       "      <td>1.000000</td>\n",
       "      <td>0.000000</td>\n",
       "      <td>1.00000</td>\n",
       "    </tr>\n",
       "    <tr>\n",
       "      <th>25%</th>\n",
       "      <td>-1.000000</td>\n",
       "      <td>2.000000</td>\n",
       "      <td>1.000000</td>\n",
       "      <td>2.000000</td>\n",
       "      <td>2.000000</td>\n",
       "      <td>1.000000</td>\n",
       "      <td>3.000000</td>\n",
       "      <td>2.000000</td>\n",
       "      <td>2.000000</td>\n",
       "      <td>2.000000</td>\n",
       "      <td>...</td>\n",
       "      <td>1.000000</td>\n",
       "      <td>2.000000</td>\n",
       "      <td>1.000000</td>\n",
       "      <td>0.000000</td>\n",
       "      <td>1.000000</td>\n",
       "      <td>3.000000</td>\n",
       "      <td>3.000000</td>\n",
       "      <td>3.000000</td>\n",
       "      <td>4.000000</td>\n",
       "      <td>2.00000</td>\n",
       "    </tr>\n",
       "    <tr>\n",
       "      <th>50%</th>\n",
       "      <td>-1.000000</td>\n",
       "      <td>3.000000</td>\n",
       "      <td>2.000000</td>\n",
       "      <td>4.000000</td>\n",
       "      <td>3.000000</td>\n",
       "      <td>3.000000</td>\n",
       "      <td>3.000000</td>\n",
       "      <td>3.000000</td>\n",
       "      <td>3.000000</td>\n",
       "      <td>3.000000</td>\n",
       "      <td>...</td>\n",
       "      <td>2.000000</td>\n",
       "      <td>3.000000</td>\n",
       "      <td>2.000000</td>\n",
       "      <td>1.000000</td>\n",
       "      <td>1.000000</td>\n",
       "      <td>4.000000</td>\n",
       "      <td>3.000000</td>\n",
       "      <td>3.000000</td>\n",
       "      <td>5.000000</td>\n",
       "      <td>3.00000</td>\n",
       "    </tr>\n",
       "    <tr>\n",
       "      <th>75%</th>\n",
       "      <td>-1.000000</td>\n",
       "      <td>4.000000</td>\n",
       "      <td>2.000000</td>\n",
       "      <td>5.000000</td>\n",
       "      <td>4.000000</td>\n",
       "      <td>4.000000</td>\n",
       "      <td>5.000000</td>\n",
       "      <td>5.000000</td>\n",
       "      <td>4.000000</td>\n",
       "      <td>4.000000</td>\n",
       "      <td>...</td>\n",
       "      <td>3.000000</td>\n",
       "      <td>3.000000</td>\n",
       "      <td>2.000000</td>\n",
       "      <td>1.000000</td>\n",
       "      <td>3.000000</td>\n",
       "      <td>4.000000</td>\n",
       "      <td>4.000000</td>\n",
       "      <td>4.000000</td>\n",
       "      <td>7.000000</td>\n",
       "      <td>4.00000</td>\n",
       "    </tr>\n",
       "    <tr>\n",
       "      <th>max</th>\n",
       "      <td>3.000000</td>\n",
       "      <td>9.000000</td>\n",
       "      <td>2.000000</td>\n",
       "      <td>6.000000</td>\n",
       "      <td>5.000000</td>\n",
       "      <td>5.000000</td>\n",
       "      <td>5.000000</td>\n",
       "      <td>5.000000</td>\n",
       "      <td>5.000000</td>\n",
       "      <td>5.000000</td>\n",
       "      <td>...</td>\n",
       "      <td>4.000000</td>\n",
       "      <td>4.000000</td>\n",
       "      <td>3.000000</td>\n",
       "      <td>2.000000</td>\n",
       "      <td>5.000000</td>\n",
       "      <td>5.000000</td>\n",
       "      <td>5.000000</td>\n",
       "      <td>9.000000</td>\n",
       "      <td>9.000000</td>\n",
       "      <td>9.00000</td>\n",
       "    </tr>\n",
       "  </tbody>\n",
       "</table>\n",
       "<p>8 rows × 81 columns</p>\n",
       "</div>"
      ],
      "text/plain": [
       "            AGER_TYP  ALTERSKATEGORIE_GROB      ANREDE_KZ  CJT_GESAMTTYP  \\\n",
       "count  891221.000000         891221.000000  891221.000000  886367.000000   \n",
       "mean       -0.358435              2.777398       1.522098       3.632838   \n",
       "std         1.198724              1.068775       0.499512       1.595021   \n",
       "min        -1.000000              1.000000       1.000000       1.000000   \n",
       "25%        -1.000000              2.000000       1.000000       2.000000   \n",
       "50%        -1.000000              3.000000       2.000000       4.000000   \n",
       "75%        -1.000000              4.000000       2.000000       5.000000   \n",
       "max         3.000000              9.000000       2.000000       6.000000   \n",
       "\n",
       "       FINANZ_MINIMALIST  FINANZ_SPARER  FINANZ_VORSORGER  FINANZ_ANLEGER  \\\n",
       "count      891221.000000  891221.000000     891221.000000   891221.000000   \n",
       "mean            3.074528       2.821039          3.401106        3.033328   \n",
       "std             1.321055       1.464749          1.322134        1.529603   \n",
       "min             1.000000       1.000000          1.000000        1.000000   \n",
       "25%             2.000000       1.000000          3.000000        2.000000   \n",
       "50%             3.000000       3.000000          3.000000        3.000000   \n",
       "75%             4.000000       4.000000          5.000000        5.000000   \n",
       "max             5.000000       5.000000          5.000000        5.000000   \n",
       "\n",
       "       FINANZ_UNAUFFAELLIGER  FINANZ_HAUSBAUER      ...          PLZ8_ANTG1  \\\n",
       "count          891221.000000     891221.000000      ...       774706.000000   \n",
       "mean                2.874167          3.075121      ...            2.253330   \n",
       "std                 1.486731          1.353248      ...            0.972008   \n",
       "min                 1.000000          1.000000      ...            0.000000   \n",
       "25%                 2.000000          2.000000      ...            1.000000   \n",
       "50%                 3.000000          3.000000      ...            2.000000   \n",
       "75%                 4.000000          4.000000      ...            3.000000   \n",
       "max                 5.000000          5.000000      ...            4.000000   \n",
       "\n",
       "          PLZ8_ANTG2     PLZ8_ANTG3     PLZ8_ANTG4    PLZ8_BAUMAX  \\\n",
       "count  774706.000000  774706.000000  774706.000000  774706.000000   \n",
       "mean        2.801858       1.595426       0.699166       1.943913   \n",
       "std         0.920309       0.986736       0.727137       1.459654   \n",
       "min         0.000000       0.000000       0.000000       1.000000   \n",
       "25%         2.000000       1.000000       0.000000       1.000000   \n",
       "50%         3.000000       2.000000       1.000000       1.000000   \n",
       "75%         3.000000       2.000000       1.000000       3.000000   \n",
       "max         4.000000       3.000000       2.000000       5.000000   \n",
       "\n",
       "            PLZ8_HHZ       PLZ8_GBZ         ARBEIT    ORTSGR_KLS9  \\\n",
       "count  774706.000000  774706.000000  794005.000000  794005.000000   \n",
       "mean        3.612821       3.381087       3.167854       5.293002   \n",
       "std         0.973967       1.111598       1.002376       2.303739   \n",
       "min         1.000000       1.000000       1.000000       0.000000   \n",
       "25%         3.000000       3.000000       3.000000       4.000000   \n",
       "50%         4.000000       3.000000       3.000000       5.000000   \n",
       "75%         4.000000       4.000000       4.000000       7.000000   \n",
       "max         5.000000       5.000000       9.000000       9.000000   \n",
       "\n",
       "           RELAT_AB  \n",
       "count  794005.00000  \n",
       "mean        3.07222  \n",
       "std         1.36298  \n",
       "min         1.00000  \n",
       "25%         2.00000  \n",
       "50%         3.00000  \n",
       "75%         4.00000  \n",
       "max         9.00000  \n",
       "\n",
       "[8 rows x 81 columns]"
      ]
     },
     "execution_count": 4,
     "metadata": {},
     "output_type": "execute_result"
    }
   ],
   "source": [
    "azdias.describe()"
   ]
  },
  {
   "cell_type": "code",
   "execution_count": 5,
   "metadata": {},
   "outputs": [
    {
     "data": {
      "text/plain": [
       "(891221, 85)"
      ]
     },
     "execution_count": 5,
     "metadata": {},
     "output_type": "execute_result"
    }
   ],
   "source": [
    "azdias.shape"
   ]
  },
  {
   "cell_type": "markdown",
   "metadata": {},
   "source": [
    "> **Tip**: Add additional cells to keep everything in reasonably-sized chunks! Keyboard shortcut `esc --> a` (press escape to enter command mode, then press the 'A' key) adds a new cell before the active cell, and `esc --> b` adds a new cell after the active cell. If you need to convert an active cell to a markdown cell, use `esc --> m` and to convert to a code cell, use `esc --> y`. \n",
    "\n",
    "## Step 1: Preprocessing\n",
    "\n",
    "### Step 1.1: Assess Missing Data\n",
    "\n",
    "The feature summary file contains a summary of properties for each demographics data column. You will use this file to help you make cleaning decisions during this stage of the project. First of all, you should assess the demographics data in terms of missing data. Pay attention to the following points as you perform your analysis, and take notes on what you observe. Make sure that you fill in the **Discussion** cell with your findings and decisions at the end of each step that has one!\n",
    "\n",
    "#### Step 1.1.1: Convert Missing Value Codes to NaNs\n",
    "The fourth column of the feature attributes summary (loaded in above as `feat_info`) documents the codes from the data dictionary that indicate missing or unknown data. While the file encodes this as a list (e.g. `[-1,0]`), this will get read in as a string object. You'll need to do a little bit of parsing to make use of it to identify and clean the data. Convert data that matches a 'missing' or 'unknown' value code into a numpy NaN value. You might want to see how much data takes on a 'missing' or 'unknown' code, and how much data is naturally missing, as a point of interest.\n",
    "\n",
    "**As one more reminder, you are encouraged to add additional cells to break up your analysis into manageable chunks.**"
   ]
  },
  {
   "cell_type": "code",
   "execution_count": 6,
   "metadata": {},
   "outputs": [],
   "source": [
    "# Identify missing or unknown data values and convert them to NaNs.\n",
    "def define_missing(string):\n",
    "    def_missing = string.replace('[', '').replace(']', '').split(',')\n",
    "\n",
    "    if(def_missing != None):\n",
    "        for i in range(len(def_missing)):\n",
    "            try: def_missing[i] = int(def_missing[i])\n",
    "            except ValueError: continue #we are trying to convert string to int ie int('XX') -> error  \n",
    "\n",
    "    return def_missing"
   ]
  },
  {
   "cell_type": "code",
   "execution_count": 7,
   "metadata": {},
   "outputs": [
    {
     "data": {
      "text/plain": [
       "-1    677503\n",
       " 2     98472\n",
       " 1     79802\n",
       " 3     27104\n",
       " 0      8340\n",
       "Name: AGER_TYP, dtype: int64"
      ]
     },
     "execution_count": 7,
     "metadata": {},
     "output_type": "execute_result"
    }
   ],
   "source": [
    "pd.value_counts(azdias.AGER_TYP)"
   ]
  },
  {
   "cell_type": "code",
   "execution_count": 8,
   "metadata": {},
   "outputs": [
    {
     "data": {
      "text/html": [
       "<div>\n",
       "<style>\n",
       "    .dataframe thead tr:only-child th {\n",
       "        text-align: right;\n",
       "    }\n",
       "\n",
       "    .dataframe thead th {\n",
       "        text-align: left;\n",
       "    }\n",
       "\n",
       "    .dataframe tbody tr th {\n",
       "        vertical-align: top;\n",
       "    }\n",
       "</style>\n",
       "<table border=\"1\" class=\"dataframe\">\n",
       "  <thead>\n",
       "    <tr style=\"text-align: right;\">\n",
       "      <th></th>\n",
       "      <th>attribute</th>\n",
       "      <th>information_level</th>\n",
       "      <th>type</th>\n",
       "      <th>missing_or_unknown</th>\n",
       "    </tr>\n",
       "  </thead>\n",
       "  <tbody>\n",
       "    <tr>\n",
       "      <th>0</th>\n",
       "      <td>AGER_TYP</td>\n",
       "      <td>person</td>\n",
       "      <td>categorical</td>\n",
       "      <td>[-1,0]</td>\n",
       "    </tr>\n",
       "    <tr>\n",
       "      <th>1</th>\n",
       "      <td>ALTERSKATEGORIE_GROB</td>\n",
       "      <td>person</td>\n",
       "      <td>ordinal</td>\n",
       "      <td>[-1,0,9]</td>\n",
       "    </tr>\n",
       "    <tr>\n",
       "      <th>2</th>\n",
       "      <td>ANREDE_KZ</td>\n",
       "      <td>person</td>\n",
       "      <td>categorical</td>\n",
       "      <td>[-1,0]</td>\n",
       "    </tr>\n",
       "    <tr>\n",
       "      <th>3</th>\n",
       "      <td>CJT_GESAMTTYP</td>\n",
       "      <td>person</td>\n",
       "      <td>categorical</td>\n",
       "      <td>[0]</td>\n",
       "    </tr>\n",
       "    <tr>\n",
       "      <th>4</th>\n",
       "      <td>FINANZ_MINIMALIST</td>\n",
       "      <td>person</td>\n",
       "      <td>ordinal</td>\n",
       "      <td>[-1]</td>\n",
       "    </tr>\n",
       "  </tbody>\n",
       "</table>\n",
       "</div>"
      ],
      "text/plain": [
       "              attribute information_level         type missing_or_unknown\n",
       "0              AGER_TYP            person  categorical             [-1,0]\n",
       "1  ALTERSKATEGORIE_GROB            person      ordinal           [-1,0,9]\n",
       "2             ANREDE_KZ            person  categorical             [-1,0]\n",
       "3         CJT_GESAMTTYP            person  categorical                [0]\n",
       "4     FINANZ_MINIMALIST            person      ordinal               [-1]"
      ]
     },
     "execution_count": 8,
     "metadata": {},
     "output_type": "execute_result"
    }
   ],
   "source": [
    "feat_info.head()"
   ]
  },
  {
   "cell_type": "code",
   "execution_count": 9,
   "metadata": {},
   "outputs": [
    {
     "name": "stdout",
     "output_type": "stream",
     "text": [
      "total NaN: 4896838 \n",
      "\n",
      "NaN per column\n",
      " count        85.000000\n",
      "mean      57609.858824\n",
      "std       78323.462873\n",
      "min           0.000000\n",
      "25%           0.000000\n",
      "50%       18348.000000\n",
      "75%       98979.000000\n",
      "max      584612.000000\n",
      "dtype: float64\n"
     ]
    }
   ],
   "source": [
    "#num previously missing values from whole df\n",
    "print('total NaN: %s \\n'%sum(azdias.isnull().sum()))\n",
    "print('NaN per column\\n %s'%azdias.isnull().sum().describe())"
   ]
  },
  {
   "cell_type": "code",
   "execution_count": 10,
   "metadata": {},
   "outputs": [],
   "source": [
    "#replace all the missing or incomplete values in azdias with NaN based on the info in feat_info\n",
    "for col in azdias:\n",
    "    missing_rep = define_missing(feat_info[feat_info['attribute']==col]['missing_or_unknown'].values[0])\n",
    "    \n",
    "    if(missing_rep[0] == ''): \n",
    "        azdias[col] = azdias[col].replace('', np.nan)\n",
    "        i+=1\n",
    "        continue\n",
    "    i=0\n",
    "    replace_with = list(np.nan for i in missing_rep) #create list of None same length as missing_rep\n",
    "    azdias[col] = azdias[col].replace(missing_rep, replace_with)"
   ]
  },
  {
   "cell_type": "markdown",
   "metadata": {},
   "source": [
    "#### Step 1.1.2: Assess Missing Data in Each Column\n",
    "\n",
    "How much missing data is present in each column? There are a few columns that are outliers in terms of the proportion of values that are missing. You will want to use matplotlib's [`hist()`](https://matplotlib.org/api/_as_gen/matplotlib.pyplot.hist.html) function to visualize the distribution of missing value counts to find these columns. Identify and document these columns. While some of these columns might have justifications for keeping or re-encoding the data, for this project you should just remove them from the dataframe. (Feel free to make remarks about these outlier columns in the discussion, however!)\n",
    "\n",
    "For the remaining features, are there any patterns in which columns have, or share, missing data?"
   ]
  },
  {
   "cell_type": "code",
   "execution_count": 11,
   "metadata": {},
   "outputs": [
    {
     "name": "stdout",
     "output_type": "stream",
     "text": [
      "[685843   2881      0   4854      0      0      0      0      0      0\n",
      "      0 392318   4854      0 111196  97632  94572  77792  77792   4854\n",
      "   4854 108315 108164   4854      0      0      0      0      0      0\n",
      "      0      0      0      0      0      0      0      0 111196  73499\n",
      " 889061 111196      0 310267  73499  73499  18348 584612 147988  73499\n",
      "  99611  97008  93148  73969  93148  93148  93148  99352  99352  99352\n",
      " 133324 133324 133324 133324 476524 133324  93740  93740  93740  93155\n",
      " 158064 133324   4854 158064 105800 116515 116515 116515 116515 116515\n",
      " 116515 116515  97375  97274  97375]\n"
     ]
    }
   ],
   "source": [
    "# Perform an assessment of how much missing data there is in each column of the\n",
    "# dataset.\n",
    "null_count = np.asarray(azdias.isnull().sum().tolist())\n",
    "print(null_count)"
   ]
  },
  {
   "cell_type": "code",
   "execution_count": 12,
   "metadata": {},
   "outputs": [
    {
     "data": {
      "text/plain": [
       "count        85.000000\n",
       "mean      98516.811765\n",
       "std      146604.203317\n",
       "min           0.000000\n",
       "25%           0.000000\n",
       "50%       93148.000000\n",
       "75%      116515.000000\n",
       "max      889061.000000\n",
       "dtype: float64"
      ]
     },
     "execution_count": 12,
     "metadata": {},
     "output_type": "execute_result"
    }
   ],
   "source": [
    "# Investigate patterns in the amount of missing data in each column.\n",
    "azdias.isnull().sum().describe()"
   ]
  },
  {
   "cell_type": "code",
   "execution_count": 13,
   "metadata": {},
   "outputs": [
    {
     "data": {
      "text/plain": [
       "[(0, 24),\n",
       " (116515, 7),\n",
       " (4854, 6),\n",
       " (133324, 6),\n",
       " (73499, 4),\n",
       " (93148, 4),\n",
       " (111196, 3),\n",
       " (99352, 3),\n",
       " (93740, 3),\n",
       " (77792, 2),\n",
       " (158064, 2),\n",
       " (97375, 2)]"
      ]
     },
     "execution_count": 13,
     "metadata": {},
     "output_type": "execute_result"
    }
   ],
   "source": [
    "#most common # of NaN: from `https://docs.python.org/2/library/collections.html#collections.Counter`\n",
    "collections.Counter(null_count).most_common(12)"
   ]
  },
  {
   "cell_type": "code",
   "execution_count": 14,
   "metadata": {},
   "outputs": [
    {
     "data": {
      "image/png": "[encoded data removed]",
      "text/plain": [
       "<matplotlib.figure.Figure at 0x7f89861f57b8>"
      ]
     },
     "metadata": {},
     "output_type": "display_data"
    }
   ],
   "source": [
    "plt.hist(null_count, bins=30)\n",
    "plt.xlabel(\"# of NaN\")\n",
    "plt.ylabel('# of features')\n",
    "plt.show()"
   ]
  },
  {
   "cell_type": "code",
   "execution_count": 15,
   "metadata": {},
   "outputs": [
    {
     "name": "stdout",
     "output_type": "stream",
     "text": [
      "num null > 200,000: 6  200k-150k: 2  150k-100k: 20  100k-50k: 25\n"
     ]
    }
   ],
   "source": [
    "i_5, i_10, i_15, i_20 = 0,0,0,0\n",
    "for value in null_count:\n",
    "    if(value > 200000):\n",
    "        i_20+=1\n",
    "    elif(value > 150000):\n",
    "        i_15 +=1\n",
    "    elif(value>100000):\n",
    "        i_10+=1\n",
    "    elif(value>50000):\n",
    "        i_5+=1\n",
    "\n",
    "print('num null > 200,000: %s' % i_20, ' 200k-150k: %s'%i_15,' 150k-100k: %s'%i_10, ' 100k-50k: %s'%i_5)"
   ]
  },
  {
   "cell_type": "code",
   "execution_count": 16,
   "metadata": {},
   "outputs": [],
   "source": [
    "# Remove the outlier columns from the dataset. (You'll perform other data\n",
    "# engineering tasks such as re-encoding and imputation later.)\n",
    "labels_to_clean = []\n",
    "for col in azdias:\n",
    "    if(azdias[col].isnull().sum()>200000):\n",
    "        labels_to_clean.append(col)\n",
    "azdias_cleaned = azdias.drop(labels_to_clean, axis=1)"
   ]
  },
  {
   "cell_type": "code",
   "execution_count": 17,
   "metadata": {},
   "outputs": [
    {
     "name": "stdout",
     "output_type": "stream",
     "text": [
      "(891221, 79)\n",
      "  attribute information_level         type\n",
      "0  AGER_TYP            person  categorical\n",
      "\n",
      "\n",
      "      attribute information_level     type\n",
      "11  GEBURTSJAHR            person  numeric\n",
      "\n",
      "\n",
      "   attribute information_level         type\n",
      "40  TITEL_KZ            person  categorical\n",
      "\n",
      "\n",
      "   attribute information_level      type\n",
      "43  ALTER_HH         household  interval\n",
      "\n",
      "\n",
      "       attribute information_level         type\n",
      "47  KK_KUNDENTYP         household  categorical\n",
      "\n",
      "\n",
      "       attribute information_level   type\n",
      "64  KBA05_BAUMAX     microcell_rr3  mixed\n",
      "\n",
      "\n"
     ]
    }
   ],
   "source": [
    "print(azdias_cleaned.shape)\n",
    "\n",
    "for label in labels_to_clean:\n",
    "    print(feat_info[feat_info['attribute'] == label][['attribute', 'information_level', 'type']])\n",
    "    print('\\n')"
   ]
  },
  {
   "cell_type": "markdown",
   "metadata": {},
   "source": [
    "#### Discussion 1.1.2: Assess Missing Data in Each Column\n",
    "\n",
    "Reporting your observations regarding the amount of missing data in each column. Are there any patterns in missing values? Which columns were removed from the dataset?\n",
    "\n",
    "There were some columns with significant amounts of missing data. Out of the total of 891,221 observations, 6 of the features had more than 200,000 missing values. I decided that these were the outliers since close to 25% of the data was missing. Most of these were supposed to hold information on a personal or household level. Possibly people were uncomfortable disclosing this kind of information. The columns excluded from the dataset are shown above.\n",
    "\n",
    "It is also interesting to note that many columns had identical numbers of missing values. The most common was 116515 missing values which occurred 7 time, including the following key/value paris of (#NaN,#occurences): `(4854, 6), (133324, 6), (73499, 4), (93148, 4), (111196, 3), (99352, 3), (93740, 3), (77792, 2), (158064, 2), (97375, 2)`. Since so many features had identical numbers of missing values it is most likely that it was the same entries (rows) that didn't fill in particular information (perhaps because it was sensitive). This might also mean that these columns contain similar data and it might not be necessary to keep all the features in this case.\n",
    "\n",
    "For example, the 7 features that all have 116515 are all from the `PLZ8 macro_cell` features. This is all to do with information regarding the building types and family houses of the region a person lives in. Maybe all the people with mssing data live in the same region for which there is no data.\n",
    "\n",
    "The features that each have 4845 missing values mostly come from different feature groupings/categories: `CJT_GESAMTTYP`, `GFK_URLAUBERTYP`, `RETOURTYP_BK_S`, `ONLINE_AFFINITAET`, apart from `LP_STATUS_FEIN` and `LP_STATUS_GROB` which are the same feature on a fine and rough scale. Since they are mostly different features describing different things maybe certain people here didn't feel comfortable disclosing this information.\n",
    "\n",
    "This means that there are feasibly two reasons columns would have identical numer of NaN's:\n",
    "1. they have similar meaning and if it is hard to get data on one then it is hard to get data for all features in that category (like `RR3 micro-cell`)\n",
    "\n",
    "2. certain people didn't feel comfortable disclosing certain information and these people are likely to be more withdrawn in answering among various features."
   ]
  },
  {
   "cell_type": "markdown",
   "metadata": {},
   "source": [
    "#### Step 1.1.3: Assess Missing Data in Each Row\n",
    "\n",
    "Now, you'll perform a similar assessment for the rows of the dataset. How much data is missing in each row? As with the columns, you should see some groups of points that have a very different numbers of missing values. Divide the data into two subsets: one for data points that are above some threshold for missing values, and a second subset for points below that threshold.\n",
    "\n",
    "In order to know what to do with the outlier rows, we should see if the distribution of data values on columns that are not missing data (or are missing very little data) are similar or different between the two groups. Select at least five of these columns and compare the distribution of values.\n",
    "- You can use seaborn's [`countplot()`](https://seaborn.pydata.org/generated/seaborn.countplot.html) function to create a bar chart of code frequencies and matplotlib's [`subplot()`](https://matplotlib.org/api/_as_gen/matplotlib.pyplot.subplot.html) function to put bar charts for the two subplots side by side.\n",
    "- To reduce repeated code, you might want to write a function that can perform this comparison, taking as one of its arguments a column to be compared.\n",
    "\n",
    "Depending on what you observe in your comparison, this will have implications on how you approach your conclusions later in the analysis. If the distributions of non-missing features look similar between the data with many missing values and the data with few or no missing values, then we could argue that simply dropping those points from the analysis won't present a major issue. On the other hand, if the data with many missing values looks very different from the data with few or no missing values, then we should make a note on those data as special. We'll revisit these data later on. **Either way, you should continue your analysis for now using just the subset of the data with few or no missing values.**"
   ]
  },
  {
   "cell_type": "code",
   "execution_count": 18,
   "metadata": {},
   "outputs": [
    {
     "data": {
      "text/plain": [
       "count    891221.000000\n",
       "mean          9.396018\n",
       "std          13.971829\n",
       "min           0.000000\n",
       "25%           3.000000\n",
       "50%           4.000000\n",
       "75%           6.000000\n",
       "max          54.000000\n",
       "dtype: float64"
      ]
     },
     "execution_count": 18,
     "metadata": {},
     "output_type": "execute_result"
    }
   ],
   "source": [
    "# How much data is missing in each row of the dataset?\n",
    "azdias.isnull().sum(axis=1).describe() #count isnull along axis=1 --> along each row"
   ]
  },
  {
   "cell_type": "code",
   "execution_count": 19,
   "metadata": {},
   "outputs": [
    {
     "data": {
      "image/png": "[encoded data removed]",
      "text/plain": [
       "<matplotlib.figure.Figure at 0x7f8986178470>"
      ]
     },
     "metadata": {},
     "output_type": "display_data"
    }
   ],
   "source": [
    "plt.figure(figsize=(14,4)) # this creates a figure 8 inch wide, 4 inch high\n",
    "ax = sns.countplot(azdias.isnull().sum(axis=1))\n",
    "ax.set_xlabel('# missing values')\n",
    "plt.show()\n",
    "##number of rows/data points that has x missing values"
   ]
  },
  {
   "cell_type": "code",
   "execution_count": 20,
   "metadata": {},
   "outputs": [],
   "source": [
    "# Write code to divide the data into two subsets based on the number of missing\n",
    "# values in each row.\n",
    "azdias_cleaned['num_null'] = azdias_cleaned.isnull().sum(axis=1)"
   ]
  },
  {
   "cell_type": "code",
   "execution_count": 21,
   "metadata": {},
   "outputs": [
    {
     "name": "stdout",
     "output_type": "stream",
     "text": [
      "(797426, 79)\n",
      "(93795, 79)\n"
     ]
    }
   ],
   "source": [
    "#split into datum that have less than and more than 20 missing values\n",
    "azdias_low = azdias_cleaned.query('num_null < 21').drop('num_null', axis=1)\n",
    "azdias_high = azdias_cleaned.query('num_null > 20').drop('num_null', axis=1)\n",
    "print(azdias_low.shape)\n",
    "print(azdias_high.shape)"
   ]
  },
  {
   "cell_type": "code",
   "execution_count": 27,
   "metadata": {},
   "outputs": [],
   "source": [
    "# Compare the distribution of values for at least five columns where there are\n",
    "# no or few missing values, between the two subsets.\n",
    "\n",
    "#subplot params: num_rows, num_cols, which_subplot\n",
    "def graph_value_dist(column):\n",
    "    fig, (ax1, ax2) = plt.subplots(1,2, sharey=True)\n",
    "    ax1.set_title('low NaN data')\n",
    "    ax2.set_title('high NaN data')\n",
    "    sns.countplot(azdias_low[column], ax=ax1)\n",
    "    sns.countplot(azdias_high[column], ax=ax2)\n",
    "    plt.show()"
   ]
  },
  {
   "cell_type": "code",
   "execution_count": 28,
   "metadata": {},
   "outputs": [
    {
     "name": "stdout",
     "output_type": "stream",
     "text": [
      "['ANREDE_KZ', 'FINANZ_MINIMALIST', 'FINANZ_SPARER', 'FINANZ_VORSORGER', 'FINANZ_ANLEGER', 'GREEN_AVANTGARDE']\n"
     ]
    }
   ],
   "source": [
    "#get column names for distribution analysis\n",
    "cols=[1,3,4,5,6,11]\n",
    "col_names = []\n",
    "for i in cols:\n",
    "    null1 = azdias_low.iloc[:,i].isnull().sum()\n",
    "    null2 = azdias_high.iloc[:,i].isnull().sum()\n",
    "    col_name = azdias_low.iloc[:,i].name\n",
    "    if(null1+null2 == 0):\n",
    "        col_names.append(col_name)\n",
    "        \n",
    "print(col_names)"
   ]
  },
  {
   "cell_type": "code",
   "execution_count": 29,
   "metadata": {},
   "outputs": [
    {
     "data": {
      "image/png": "[encoded data removed]",
      "text/plain": [
       "<matplotlib.figure.Figure at 0x7f8981871e80>"
      ]
     },
     "metadata": {},
     "output_type": "display_data"
    },
    {
     "data": {
      "image/png": "[encoded data removed]",
      "text/plain": [
       "<matplotlib.figure.Figure at 0x7f89818510f0>"
      ]
     },
     "metadata": {},
     "output_type": "display_data"
    },
    {
     "data": {
      "image/png": "[encoded data removed]",
      "text/plain": [
       "<matplotlib.figure.Figure at 0x7f8984118c50>"
      ]
     },
     "metadata": {},
     "output_type": "display_data"
    },
    {
     "data": {
      "image/png": "[encoded data removed]",
      "text/plain": [
       "<matplotlib.figure.Figure at 0x7f89818f7160>"
      ]
     },
     "metadata": {},
     "output_type": "display_data"
    },
    {
     "data": {
      "image/png": "[encoded data removed]",
      "text/plain": [
       "<matplotlib.figure.Figure at 0x7f89818a1470>"
      ]
     },
     "metadata": {},
     "output_type": "display_data"
    },
    {
     "data": {
      "image/png": "[encoded data removed]",
      "text/plain": [
       "<matplotlib.figure.Figure at 0x7f89819275c0>"
      ]
     },
     "metadata": {},
     "output_type": "display_data"
    }
   ],
   "source": [
    "for col in col_names:\n",
    "    graph_value_dist(col)"
   ]
  },
  {
   "cell_type": "markdown",
   "metadata": {},
   "source": [
    "#### Discussion 1.1.3: Assess Missing Data in Each Row\n",
    "\n",
    "I looked at 6 features where the data had no missing values, and quite interestingly some of these features had even distributions of values between the two datasets, and some were quite uneven. \n",
    "\n",
    "The highest difference in distributions was seen in the columns:\n",
    "* FINANZ_ANLEGER\n",
    "* FINANZ_SPARER\n",
    "* FINANZ_VORSORGER\n",
    "\n",
    "This means that 3 out of the 6 features I looked at have a very different distribution of values between the two splits of data- NaN heavy data and NaN light data.\n",
    "This means that it might not be the best idea to drop a lot of the NaN datum, as it could disort the data. We should revist the high NaN rows later as some seem to be qualitatively different."
   ]
  },
  {
   "cell_type": "markdown",
   "metadata": {},
   "source": [
    "### Step 1.2: Select and Re-Encode Features\n",
    "\n",
    "Checking for missing data isn't the only way in which you can prepare a dataset for analysis. Since the unsupervised learning techniques to be used will only work on data that is encoded numerically, you need to make a few encoding changes or additional assumptions to be able to make progress. In addition, while almost all of the values in the dataset are encoded using numbers, not all of them represent numeric values. Check the third column of the feature summary (`feat_info`) for a summary of types of measurement.\n",
    "- For numeric and interval data, these features can be kept without changes.\n",
    "- Most of the variables in the dataset are ordinal in nature. While ordinal values may technically be non-linear in spacing, make the simplifying assumption that the ordinal variables can be treated as being interval in nature (that is, kept without any changes).\n",
    "- Special handling may be necessary for the remaining two variable types: categorical, and 'mixed'.\n",
    "\n",
    "In the first two parts of this sub-step, you will perform an investigation of the categorical and mixed-type features and make a decision on each of them, whether you will keep, drop, or re-encode each. Then, in the last part, you will create a new data frame with only the selected and engineered columns.\n",
    "\n",
    "Data wrangling is often the trickiest part of the data analysis process, and there's a lot of it to be done here. But stick with it: once you're done with this step, you'll be ready to get to the machine learning parts of the project!"
   ]
  },
  {
   "cell_type": "code",
   "execution_count": 30,
   "metadata": {},
   "outputs": [
    {
     "data": {
      "text/plain": [
       "ordinal        49\n",
       "categorical    21\n",
       "numeric         7\n",
       "mixed           7\n",
       "interval        1\n",
       "Name: type, dtype: int64"
      ]
     },
     "execution_count": 30,
     "metadata": {},
     "output_type": "execute_result"
    }
   ],
   "source": [
    "# How many features are there of each data type?\n",
    "#feat_info.groupby('type')['attribute'].nunique()\n",
    "feat_info['type'].value_counts()"
   ]
  },
  {
   "cell_type": "markdown",
   "metadata": {},
   "source": [
    "#### Step 1.2.1: Re-Encode Categorical Features\n",
    "\n",
    "For categorical data, you would ordinarily need to encode the levels as dummy variables. Depending on the number of categories, perform one of the following:\n",
    "- For binary (two-level) categoricals that take numeric values, you can keep them without needing to do anything.\n",
    "- There is one binary variable that takes on non-numeric values. For this one, you need to re-encode the values as numbers or create a dummy variable.\n",
    "- For multi-level categoricals (three or more values), you can choose to encode the values using multiple dummy variables (e.g. via [OneHotEncoder](http://scikit-learn.org/stable/modules/generated/sklearn.preprocessing.OneHotEncoder.html)), or (to keep things straightforward) just drop them from the analysis. As always, document your choices in the Discussion section."
   ]
  },
  {
   "cell_type": "code",
   "execution_count": 31,
   "metadata": {},
   "outputs": [
    {
     "name": "stdout",
     "output_type": "stream",
     "text": [
      "count    205378.000000\n",
      "mean          1.743410\n",
      "std           0.674312\n",
      "min           1.000000\n",
      "25%           1.000000\n",
      "50%           2.000000\n",
      "75%           2.000000\n",
      "max           3.000000\n",
      "Name: AGER_TYP, dtype: float64\n",
      "685843\n",
      "count    891221.000000\n",
      "mean          1.522098\n",
      "std           0.499512\n",
      "min           1.000000\n",
      "25%           1.000000\n",
      "50%           2.000000\n",
      "75%           2.000000\n",
      "max           2.000000\n",
      "Name: ANREDE_KZ, dtype: float64\n",
      "0\n",
      "count    886367.000000\n",
      "mean          3.632838\n",
      "std           1.595021\n",
      "min           1.000000\n",
      "25%           2.000000\n",
      "50%           4.000000\n",
      "75%           5.000000\n",
      "max           6.000000\n",
      "Name: CJT_GESAMTTYP, dtype: float64\n",
      "4854\n",
      "count    891221.000000\n",
      "mean          3.790586\n",
      "std           1.987876\n",
      "min           1.000000\n",
      "25%           2.000000\n",
      "50%           4.000000\n",
      "75%           6.000000\n",
      "max           6.000000\n",
      "Name: FINANZTYP, dtype: float64\n",
      "0\n",
      "count    886367.000000\n",
      "mean          7.350304\n",
      "std           3.525723\n",
      "min           1.000000\n",
      "25%           5.000000\n",
      "50%           8.000000\n",
      "75%          10.000000\n",
      "max          12.000000\n",
      "Name: GFK_URLAUBERTYP, dtype: float64\n",
      "4854\n",
      "count    891221.000000\n",
      "mean          0.196612\n",
      "std           0.397437\n",
      "min           0.000000\n",
      "25%           0.000000\n",
      "50%           0.000000\n",
      "75%           0.000000\n",
      "max           1.000000\n",
      "Name: GREEN_AVANTGARDE, dtype: float64\n",
      "0\n",
      "count    813429.000000\n",
      "mean          3.922339\n",
      "std           3.941285\n",
      "min           1.000000\n",
      "25%           1.000000\n",
      "50%           1.000000\n",
      "75%           8.000000\n",
      "max          11.000000\n",
      "Name: LP_FAMILIE_FEIN, dtype: float64\n",
      "77792\n",
      "count    813429.000000\n",
      "mean          2.381976\n",
      "std           1.701527\n",
      "min           1.000000\n",
      "25%           1.000000\n",
      "50%           1.000000\n",
      "75%           4.000000\n",
      "max           5.000000\n",
      "Name: LP_FAMILIE_GROB, dtype: float64\n",
      "77792\n",
      "count    886367.000000\n",
      "mean          4.791151\n",
      "std           3.425305\n",
      "min           1.000000\n",
      "25%           2.000000\n",
      "50%           4.000000\n",
      "75%           9.000000\n",
      "max          10.000000\n",
      "Name: LP_STATUS_FEIN, dtype: float64\n",
      "4854\n",
      "count    886367.000000\n",
      "mean          2.432575\n",
      "std           1.474315\n",
      "min           1.000000\n",
      "25%           1.000000\n",
      "50%           2.000000\n",
      "75%           4.000000\n",
      "max           5.000000\n",
      "Name: LP_STATUS_GROB, dtype: float64\n",
      "4854\n",
      "count    782906.000000\n",
      "mean          1.168889\n",
      "std           0.475075\n",
      "min           1.000000\n",
      "25%           1.000000\n",
      "50%           1.000000\n",
      "75%           1.000000\n",
      "max           3.000000\n",
      "Name: NATIONALITAET_KZ, dtype: float64\n",
      "108315\n",
      "count    780025.000000\n",
      "mean          1.590134\n",
      "std           1.027972\n",
      "min           0.000000\n",
      "25%           1.000000\n",
      "50%           2.000000\n",
      "75%           2.000000\n",
      "max           3.000000\n",
      "Name: SHOPPER_TYP, dtype: float64\n",
      "111196\n",
      "count    817722.000000\n",
      "mean          0.008423\n",
      "std           0.091392\n",
      "min           0.000000\n",
      "25%           0.000000\n",
      "50%           0.000000\n",
      "75%           0.000000\n",
      "max           1.000000\n",
      "Name: SOHO_KZ, dtype: float64\n",
      "73499\n",
      "count    2160.000000\n",
      "mean        1.318519\n",
      "std         0.999504\n",
      "min         1.000000\n",
      "25%         1.000000\n",
      "50%         1.000000\n",
      "75%         1.000000\n",
      "max         5.000000\n",
      "Name: TITEL_KZ, dtype: float64\n",
      "889061\n",
      "count    780025.000000\n",
      "mean          1.511166\n",
      "std           0.499876\n",
      "min           1.000000\n",
      "25%           1.000000\n",
      "50%           2.000000\n",
      "75%           2.000000\n",
      "max           2.000000\n",
      "Name: VERS_TYP, dtype: float64\n",
      "111196\n",
      "count    891221.000000\n",
      "mean          3.362438\n",
      "std           1.352704\n",
      "min           1.000000\n",
      "25%           3.000000\n",
      "50%           3.000000\n",
      "75%           4.000000\n",
      "max           6.000000\n",
      "Name: ZABEOTYP, dtype: float64\n",
      "0\n",
      "count    306609.000000\n",
      "mean          3.410640\n",
      "std           1.628844\n",
      "min           1.000000\n",
      "25%           2.000000\n",
      "50%           3.000000\n",
      "75%           5.000000\n",
      "max           6.000000\n",
      "Name: KK_KUNDENTYP, dtype: float64\n",
      "584612\n",
      "count    798073.000000\n",
      "mean          2.798641\n",
      "std           2.656713\n",
      "min           1.000000\n",
      "25%           1.000000\n",
      "50%           1.000000\n",
      "75%           3.000000\n",
      "max           8.000000\n",
      "Name: GEBAEUDETYP, dtype: float64\n",
      "93148\n",
      "count     798073\n",
      "unique         2\n",
      "top            W\n",
      "freq      629528\n",
      "Name: OST_WEST_KZ, dtype: object\n",
      "93148\n",
      "count     791869\n",
      "unique         9\n",
      "top            8\n",
      "freq      134441\n",
      "Name: CAMEO_DEUG_2015, dtype: object\n",
      "99352\n",
      "count     791869\n",
      "unique        44\n",
      "top           6B\n",
      "freq       56672\n",
      "Name: CAMEO_DEU_2015, dtype: object\n",
      "99352\n"
     ]
    }
   ],
   "source": [
    "# Assess categorical variables: which are binary, which are multi-level, and\n",
    "# which one needs to be re-encoded?\n",
    "cat_vars = feat_info[feat_info['type'] == 'categorical']['attribute'].tolist()\n",
    "\n",
    "for var in cat_vars:\n",
    "    print(azdias[var].describe())\n",
    "    print(azdias[var].isnull().sum())"
   ]
  },
  {
   "cell_type": "code",
   "execution_count": 32,
   "metadata": {},
   "outputs": [
    {
     "data": {
      "text/plain": [
       "W    629528\n",
       "O    168545\n",
       "Name: OST_WEST_KZ, dtype: int64"
      ]
     },
     "execution_count": 32,
     "metadata": {},
     "output_type": "execute_result"
    }
   ],
   "source": [
    "azdias['OST_WEST_KZ'].value_counts()"
   ]
  },
  {
   "cell_type": "code",
   "execution_count": 33,
   "metadata": {},
   "outputs": [
    {
     "data": {
      "text/plain": [
       "1    628987\n",
       "0    168439\n",
       "Name: WEST_KZ, dtype: int64"
      ]
     },
     "execution_count": 33,
     "metadata": {},
     "output_type": "execute_result"
    }
   ],
   "source": [
    "# Re-encode categorical variable(s) to be kept in the analysis.\n",
    "azdias_low['WEST_KZ'] = azdias_low['OST_WEST_KZ'].replace({'W':1, 'O':0})\n",
    "azdias_low['WEST_KZ'].value_counts()"
   ]
  },
  {
   "cell_type": "code",
   "execution_count": 34,
   "metadata": {},
   "outputs": [],
   "source": [
    "def imputer_freq(df, var): #fill in NaN with most common value in column\n",
    "    most_freq = df[var].value_counts().idxmax()\n",
    "    return df[var].fillna(most_freq)"
   ]
  },
  {
   "cell_type": "code",
   "execution_count": 35,
   "metadata": {},
   "outputs": [
    {
     "name": "stdout",
     "output_type": "stream",
     "text": [
      "(797426, 80)\n",
      "(797426, 81)\n",
      "(797426, 82)\n",
      "(797426, 83)\n",
      "(797426, 84)\n",
      "(797426, 85)\n",
      "(797426, 85)\n",
      "(797426, 86)\n",
      "(797426, 87)\n",
      "(797426, 88)\n",
      "(797426, 89)\n",
      "(797426, 90)\n",
      "(797426, 90)\n",
      "(797426, 91)\n",
      "(797426, 92)\n",
      "(797426, 93)\n",
      "(797426, 94)\n",
      "(797426, 95)\n",
      "(797426, 96)\n",
      "(797426, 97)\n",
      "(797426, 98)\n",
      "(797426, 99)\n",
      "(797426, 100)\n",
      "(797426, 101)\n",
      "(797426, 101)\n",
      "(797426, 102)\n",
      "(797426, 103)\n",
      "(797426, 104)\n",
      "(797426, 105)\n",
      "(797426, 106)\n",
      "(797426, 107)\n",
      "(797426, 108)\n",
      "(797426, 109)\n",
      "(797426, 110)\n",
      "(797426, 111)\n",
      "(797426, 111)\n",
      "(797426, 112)\n",
      "(797426, 113)\n",
      "(797426, 114)\n",
      "(797426, 115)\n",
      "(797426, 115)\n",
      "(797426, 116)\n",
      "(797426, 117)\n",
      "(797426, 118)\n",
      "(797426, 119)\n",
      "(797426, 120)\n",
      "(797426, 121)\n",
      "(797426, 122)\n",
      "(797426, 123)\n",
      "(797426, 124)\n",
      "(797426, 124)\n",
      "(797426, 125)\n",
      "(797426, 126)\n",
      "(797426, 127)\n",
      "(797426, 128)\n",
      "(797426, 128)\n",
      "(797426, 129)\n",
      "(797426, 130)\n",
      "(797426, 130)\n",
      "(797426, 131)\n",
      "(797426, 132)\n",
      "(797426, 133)\n",
      "(797426, 133)\n",
      "(797426, 134)\n",
      "(797426, 135)\n",
      "(797426, 136)\n",
      "(797426, 137)\n",
      "(797426, 138)\n",
      "(797426, 138)\n",
      "(797426, 139)\n",
      "(797426, 140)\n",
      "(797426, 141)\n",
      "(797426, 142)\n",
      "(797426, 143)\n",
      "(797426, 144)\n",
      "(797426, 144)\n",
      "(797426, 145)\n",
      "(797426, 146)\n",
      "(797426, 147)\n",
      "(797426, 148)\n",
      "(797426, 149)\n",
      "(797426, 150)\n",
      "(797426, 151)\n",
      "(797426, 152)\n",
      "(797426, 152)\n",
      "(797426, 153)\n",
      "(797426, 154)\n",
      "(797426, 155)\n",
      "(797426, 156)\n",
      "(797426, 157)\n",
      "(797426, 158)\n",
      "(797426, 159)\n",
      "(797426, 160)\n",
      "(797426, 161)\n",
      "(797426, 162)\n",
      "(797426, 163)\n",
      "(797426, 164)\n",
      "(797426, 165)\n",
      "(797426, 166)\n",
      "(797426, 167)\n",
      "(797426, 168)\n",
      "(797426, 169)\n",
      "(797426, 170)\n",
      "(797426, 171)\n",
      "(797426, 172)\n",
      "(797426, 173)\n",
      "(797426, 174)\n",
      "(797426, 175)\n",
      "(797426, 176)\n",
      "(797426, 177)\n",
      "(797426, 178)\n",
      "(797426, 179)\n",
      "(797426, 180)\n",
      "(797426, 181)\n",
      "(797426, 182)\n",
      "(797426, 183)\n",
      "(797426, 184)\n",
      "(797426, 185)\n",
      "(797426, 186)\n",
      "(797426, 187)\n",
      "(797426, 188)\n",
      "(797426, 189)\n",
      "(797426, 190)\n",
      "(797426, 191)\n",
      "(797426, 192)\n",
      "(797426, 193)\n",
      "(797426, 194)\n",
      "(797426, 195)\n"
     ]
    }
   ],
   "source": [
    "one_hot_vars = ['CJT_GESAMTTYP', 'FINANZTYP','GFK_URLAUBERTYP', 'LP_FAMILIE_FEIN', \n",
    "                'LP_FAMILIE_GROB', 'LP_STATUS_FEIN', 'LP_STATUS_GROB', 'NATIONALITAET_KZ', \n",
    "                'SHOPPER_TYP', 'ZABEOTYP', 'GEBAEUDETYP', 'CAMEO_DEUG_2015', 'CAMEO_DEU_2015']\n",
    "for var in one_hot_vars:\n",
    "    imputed_data = imputer_freq(azdias_low, var) #fill na-- imputation\n",
    "    encode = pd.get_dummies(imputed_data, prefix=var) #one hot encode\n",
    "    azdias_low = azdias_low.drop(var, axis=1) # remove column we onehot\n",
    "    \n",
    "    for col in encode.columns: #insert new encoded columns into the dataset\n",
    "        azdias_low[col] = encode[col] \n",
    "        print(azdias_low.shape)"
   ]
  },
  {
   "cell_type": "code",
   "execution_count": 36,
   "metadata": {},
   "outputs": [
    {
     "name": "stdout",
     "output_type": "stream",
     "text": [
      "KK_KUNDENTYP already cleaned from dataset\n",
      "TITEL_KZ already cleaned from dataset\n",
      "AGER_TYP already cleaned from dataset\n"
     ]
    }
   ],
   "source": [
    "drop_categorical = ['KK_KUNDENTYP', 'TITEL_KZ', 'AGER_TYP']\n",
    "for category in drop_categorical:\n",
    "    try: azdias_low = azdias_low.drop(category, axis=1)\n",
    "    except ValueError: print('{0} already cleaned from dataset'.format(category))"
   ]
  },
  {
   "cell_type": "markdown",
   "metadata": {},
   "source": [
    "#### Discussion 1.2.1: Re-Encode Categorical Features\n",
    "\n",
    "(Double-click this cell and replace this text with your own text, reporting your findings and decisions regarding categorical features. Which ones did you keep, which did you drop, and what engineering steps did you perform?)\n",
    "\n",
    "* The non-numerical binary variable is: `OST_WEST_KZ`\n",
    "* `CAMEO_DEU_2015` and `CAMEO_DEUG_2015` is a multi-level categorical: alphanumeric\n",
    "* `SOHO_KZ` and `GREEN_AVANTGARDE` is a regular binary variable\n",
    "    * `ANREDE_KZ` is binary, but takes values `[1,2]`\n",
    "\n",
    "The variables that need to be re-encoded are:\n",
    "* non-numerical binary var: `OST_WEST_KZ` will be converted to regular binary\n",
    "* all multi-level categoricals will be one hot encoded\n",
    "\n",
    "The variables I dropped are:\n",
    "* `KK_KUNDENTYP`\n",
    "* `TITEL_KZ`\n",
    "* `AGER_TYP`\n",
    "\n",
    "I dropped them because they had very few (relative to length of dataset) non-missing values. Which wouldn't be useful for analysis anyway.\n",
    "\n",
    "##### Engineering Steps\n",
    "For alphanumeric binary var `OST_WEST_KZ`:\n",
    "\n",
    " * converted `OST_WEST_KZ` to binary variable: `WEST_KZ`\n",
    "     * `W` maps to `1` (signifies True/1 for \"west\")\n",
    "     * `O` maps to `0`\n",
    "\n",
    "-------\n",
    "For categorical variables: `['CJT_GESAMTTYP', 'FINANZTYP','GFK_URLAUBERTYP', 'LP_FAMILIE_FEIN', 'LP_FAMILIE_GROB', 'LP_STATUS_FEIN', 'LP_STATUS_GROB', 'NATIONALITAET_KZ', 'SHOPPER_TYP', 'ZABEOTYP', 'GEBAEUDETYP', 'CAMEO_DEUG_2015', 'CAMEO_DEU_2015']`\n",
    "1. First, I imputed each variable column to prevent getting a one hot encoded column for NaN - missing values.\n",
    "    * to do this I find the highest frequency value in each common (most likely category), and then fill the missing values with that instead of a mean for example. The mean would be a bad choice to impute categorical variables as it makes the variable continuous rather than discrete.\n",
    "    \n",
    "2. Secondly, I used pandas.get_dummies to one hot encode each column, dropped the original column from the dataset, and then added the new encoded data columns to the dataset."
   ]
  },
  {
   "cell_type": "markdown",
   "metadata": {},
   "source": [
    "#### Step 1.2.2: Engineer Mixed-Type Features\n",
    "\n",
    "There are a handful of features that are marked as \"mixed\" in the feature summary that require special treatment in order to be included in the analysis. There are two in particular that deserve attention; the handling of the rest are up to your own choices:\n",
    "- \"PRAEGENDE_JUGENDJAHRE\" combines information on three dimensions: generation by decade, movement (mainstream vs. avantgarde), and nation (east vs. west). While there aren't enough levels to disentangle east from west, you should create two new variables to capture the other two dimensions: an interval-type variable for decade, and a binary variable for movement.\n",
    "- \"CAMEO_INTL_2015\" combines information on two axes: wealth and life stage. Break up the two-digit codes by their 'tens'-place and 'ones'-place digits into two new ordinal variables (which, for the purposes of this project, is equivalent to just treating them as their raw numeric values).\n",
    "- If you decide to keep or engineer new features around the other mixed-type features, make sure you note your steps in the Discussion section.\n",
    "\n",
    "Be sure to check `Data_Dictionary.md` for the details needed to finish these tasks."
   ]
  },
  {
   "cell_type": "code",
   "execution_count": 37,
   "metadata": {},
   "outputs": [
    {
     "name": "stdout",
     "output_type": "stream",
     "text": [
      "14.0    188697\n",
      "8.0     145988\n",
      "5.0      86416\n",
      "10.0     85808\n",
      "3.0      55195\n",
      "15.0     42547\n",
      "11.0     35752\n",
      "9.0      33570\n",
      "6.0      25652\n",
      "12.0     24446\n",
      "1.0      21282\n",
      "4.0      20451\n",
      "2.0       7479\n",
      "13.0      5764\n",
      "7.0       4010\n",
      "Name: PRAEGENDE_JUGENDJAHRE, dtype: int64\n"
     ]
    }
   ],
   "source": [
    "# Investigate \"PRAEGENDE_JUGENDJAHRE\" and engineer two new variables.\n",
    "print(azdias['PRAEGENDE_JUGENDJAHRE'].value_counts())\n",
    "decade_mapping = {1:40, 2:40,3:50,4:50,5:60,6:60,7:60,8:70,9:70,10:80,11:80,12:80,13:80,14:90,15:90}\n",
    "avantgarde_mapping ={1:0,2:1,3:0,4:1,5:0,6:1,7:1,8:0,9:1,10:0,11:1,12:0,13:1,14:0,15:1}\n",
    "\n",
    "azdias_low['AVANTGARDE'] = azdias_low['PRAEGENDE_JUGENDJAHRE'].map(avantgarde_mapping)\n",
    "azdias_low['YOUTH_DECADE'] = azdias_low['PRAEGENDE_JUGENDJAHRE'].map(decade_mapping)\n",
    "\n",
    "#impute null values\n",
    "azdias_low['AVANTGARDE'] = imputer_freq(azdias_low, 'AVANTGARDE')\n",
    "azdias_low['YOUTH_DECADE'] = imputer_freq(azdias_low, 'YOUTH_DECADE')"
   ]
  },
  {
   "cell_type": "code",
   "execution_count": 38,
   "metadata": {},
   "outputs": [
    {
     "name": "stdout",
     "output_type": "stream",
     "text": [
      "number of nulls: 6003\n",
      "value counts: 51    133673\n",
      "41     92309\n",
      "24     91099\n",
      "14     62851\n",
      "43     56653\n",
      "54     45376\n",
      "25     39605\n",
      "22     33137\n",
      "23     26667\n",
      "13     26311\n",
      "45     26126\n",
      "55     23939\n",
      "52     20538\n",
      "31     18979\n",
      "34     18517\n",
      "15     16966\n",
      "44     14817\n",
      "12     13234\n",
      "35     10352\n",
      "32     10346\n",
      "33      9928\n",
      "Name: CAMEO_INTL_2015, dtype: int64\n"
     ]
    }
   ],
   "source": [
    "# Investigate \"CAMEO_INTL_2015\" and engineer two new variables.\n",
    "print('number of nulls: %s'%azdias_low['CAMEO_INTL_2015'].isnull().sum())\n",
    "print('value counts: %s' % azdias_low['CAMEO_INTL_2015'].value_counts())"
   ]
  },
  {
   "cell_type": "code",
   "execution_count": 39,
   "metadata": {},
   "outputs": [],
   "source": [
    "def decode_wealth(key):\n",
    "    if(len(str(key))==2):\n",
    "        tens = int(str(key)[0])\n",
    "        return tens\n",
    "    else: return np.nan\n",
    "    \n",
    "def decode_life(key):\n",
    "    if(len(str(key))==2):\n",
    "        ones = int(str(key)[1])\n",
    "        return ones\n",
    "    else: return np.nan"
   ]
  },
  {
   "cell_type": "code",
   "execution_count": 40,
   "metadata": {},
   "outputs": [],
   "source": [
    "'''ENGINEERING OF `CAMEO_INTL_2015` '''\n",
    "azdias_low['CAMEO_INTL_2015_WEALTH'] = azdias_low['CAMEO_INTL_2015'].apply(decode_wealth)\n",
    "azdias_low['CAMEO_INTL_2015_LIFE'] = azdias_low['CAMEO_INTL_2015'].apply(decode_life)\n",
    "\n",
    "#impute nan values\n",
    "azdias_low['CAMEO_INTL_2015_WEALTH'] = imputer_freq(azdias_low, 'CAMEO_INTL_2015_WEALTH')\n",
    "azdias_low['CAMEO_INTL_2015_LIFE'] = imputer_freq(azdias_low, 'CAMEO_INTL_2015_LIFE')"
   ]
  },
  {
   "cell_type": "code",
   "execution_count": 41,
   "metadata": {},
   "outputs": [
    {
     "name": "stdout",
     "output_type": "stream",
     "text": [
      "['LP_LEBENSPHASE_FEIN', 'LP_LEBENSPHASE_GROB', 'WOHNLAGE', 'KBA05_BAUMAX', 'PLZ8_BAUMAX']\n"
     ]
    }
   ],
   "source": [
    "mixed_feat = feat_info[feat_info['type'] == 'mixed']['attribute'].tolist()\n",
    "mixed_feat.remove('PRAEGENDE_JUGENDJAHRE')\n",
    "mixed_feat.remove('CAMEO_INTL_2015')\n",
    "print(mixed_feat)"
   ]
  },
  {
   "cell_type": "code",
   "execution_count": 42,
   "metadata": {},
   "outputs": [
    {
     "name": "stdout",
     "output_type": "stream",
     "text": [
      "LP_LEBENSPHASE_FEIN has 49651 null values\n",
      "LP_LEBENSPHASE_GROB has 46830 null values\n",
      "WOHNLAGE has 0 null values\n"
     ]
    }
   ],
   "source": [
    "#INVESTIGATE REMAINING MIXED-VARS\n",
    "for feat in mixed_feat:\n",
    "    try: print('{0} has {1} null values'.format(feat, azdias_low[feat].isnull().sum()))\n",
    "    except KeyError: mixed_feat.remove(feat);"
   ]
  },
  {
   "cell_type": "code",
   "execution_count": 43,
   "metadata": {},
   "outputs": [
    {
     "name": "stdout",
     "output_type": "stream",
     "text": [
      "LP_LEBENSPHASE_FEIN has 1.0     58722\n",
      "5.0     52400\n",
      "6.0     43334\n",
      "2.0     37148\n",
      "8.0     28837\n",
      "11.0    25369\n",
      "7.0     24950\n",
      "29.0    24880\n",
      "13.0    24811\n",
      "10.0    24469\n",
      "12.0    22275\n",
      "31.0    22261\n",
      "30.0    21147\n",
      "15.0    18966\n",
      "3.0     18756\n",
      "19.0    18586\n",
      "37.0    17500\n",
      "4.0     16478\n",
      "14.0    16354\n",
      "20.0    16287\n",
      "32.0    15763\n",
      "39.0    15132\n",
      "40.0    14108\n",
      "27.0    13800\n",
      "16.0    13633\n",
      "38.0    13099\n",
      "35.0    13011\n",
      "34.0    12422\n",
      "9.0     12111\n",
      "21.0    11966\n",
      "28.0    11543\n",
      "24.0    11309\n",
      "25.0     9849\n",
      "36.0     9656\n",
      "23.0     8628\n",
      "22.0     6831\n",
      "18.0     6805\n",
      "33.0     5724\n",
      "17.0     5487\n",
      "26.0     3368\n",
      "Name: LP_LEBENSPHASE_FEIN, dtype: int64 null values\n",
      "LP_LEBENSPHASE_GROB has 2.0     149521\n",
      "1.0     131104\n",
      "3.0     109623\n",
      "12.0     69495\n",
      "4.0      51186\n",
      "5.0      47165\n",
      "9.0      46027\n",
      "10.0     38024\n",
      "11.0     31157\n",
      "8.0      28711\n",
      "6.0      27425\n",
      "7.0      21158\n",
      "Name: LP_LEBENSPHASE_GROB, dtype: int64 null values\n",
      "WOHNLAGE has 3.0    249592\n",
      "7.0    169269\n",
      "4.0    135906\n",
      "2.0    100328\n",
      "5.0     74305\n",
      "1.0     43891\n",
      "8.0     17394\n",
      "0.0      6741\n",
      "Name: WOHNLAGE, dtype: int64 null values\n",
      "PLZ8_BAUMAX has 1.0    499542\n",
      "5.0     97333\n",
      "2.0     70406\n",
      "4.0     56684\n",
      "3.0     50732\n",
      "Name: PLZ8_BAUMAX, dtype: int64 null values\n"
     ]
    }
   ],
   "source": [
    "for feat in mixed_feat:\n",
    "    print('{0} has {1} null values'.format(feat, azdias_low[feat].value_counts()))"
   ]
  },
  {
   "cell_type": "markdown",
   "metadata": {},
   "source": [
    "#### Discussion 1.2.2: Engineer Mixed-Type Features\n",
    "\n",
    "-------\n",
    "###### Engineering  `PRAEGENDE_JUGENDJAHRE`\n",
    "1. created mapping from the current variable to a categorical `YOUTH_DECADE` variable\n",
    "    * denotes which decade the persons childhood was in. for example 60s became `60`\n",
    "2. created mapping from the current variable to a binary `AVANTGARDE` variable\n",
    "    * if the predominant movement during this persons childhood was avantgarde, the binary var denotes `1.0` otherwise it denotes `0.0`\n",
    "\n",
    "-------\n",
    "###### Engineering  `CAMEO_INTL_2015`\n",
    "1. first defined two mapping functions: `decode_wealth` and `decode_life`\n",
    "    * `decode_wealth` returns the first digit of the orginial variable which shows wealth status\n",
    "    * `decode_life` returns the second digit of the original variable showing life stage\n",
    "    \n",
    "2. I applied this function to the data set and created a new ordinal variable for each wealth and life stage\n",
    "   * `CAMEO_INTL_2015_WEALTH`\n",
    "   * `CAMEO_INTL_2015_LIFE`\n",
    "    \n",
    "###### Other mixed variables\n",
    "the remaining mixed variables that were still in data set after engineering step were:\n",
    "`['LP_LEBENSPHASE_FEIN', 'LP_LEBENSPHASE_GROB', 'WOHNLAGE','PLZ8_BAUMAX']`\n",
    "\n",
    "* `LP_LEBENSPHASE_FEIN`\n",
    "    * this variable essentially encodes the same things as `CAMEO_INTL_2015`, so I decided to drop it\n",
    "\n",
    "* `LP_LEBENSPHASE_GROB`\n",
    "    * this variable is the same as the variable above but on rougher scale, dropping as well\n",
    "    \n",
    "* `WOHNLAGE`\n",
    "    * `CAMEO_DEU_2015` contains similar but more defined information. `WOHNLAGE` is dropped\n",
    "\n",
    "* `PLZ8_BAUMAX`\n",
    "    * this variable is encapsulated by the information in other `PLZ8` variables, is dropped."
   ]
  },
  {
   "cell_type": "markdown",
   "metadata": {},
   "source": [
    "#### Step 1.2.3: Complete Feature Selection\n",
    "\n",
    "In order to finish this step up, you need to make sure that your data frame now only has the columns that you want to keep. To summarize, the dataframe should consist of the following:\n",
    "- All numeric, interval, and ordinal type columns from the original dataset.\n",
    "- Binary categorical features (all numerically-encoded).\n",
    "- Engineered features from other multi-level categorical features and mixed features.\n",
    "\n",
    "Make sure that for any new columns that you have engineered, that you've excluded the original columns from the final dataset. Otherwise, their values will interfere with the analysis later on the project. For example, you should not keep \"PRAEGENDE_JUGENDJAHRE\", since its values won't be useful for the algorithm: only the values derived from it in the engineered features you created should be retained. As a reminder, your data should only be from **the subset with few or no missing values**."
   ]
  },
  {
   "cell_type": "markdown",
   "metadata": {},
   "source": [
    "--------\n",
    "Some variables have been dropped already. Below, I will go through all features that have been encoded or need to be dropped again to double check"
   ]
  },
  {
   "cell_type": "code",
   "execution_count": 44,
   "metadata": {},
   "outputs": [
    {
     "name": "stdout",
     "output_type": "stream",
     "text": [
      "cleaning LP_LEBENSPHASE_FEIN:\n",
      "cleaning LP_LEBENSPHASE_GROB:\n",
      "cleaning WOHNLAGE:\n",
      "cleaning PLZ8_BAUMAX:\n",
      "cleaning PRAEGENDE_JUGENDJAHRE:\n",
      "cleaning CAMEO_INTL_2015:\n",
      "cleaning OST_WEST_KZ:\n"
     ]
    }
   ],
   "source": [
    "#double check that features have been dropped\n",
    "one_hot_vars = ['CJT_GESAMTTYP', 'FINANZTYP','GFK_URLAUBERTYP', 'LP_FAMILIE_FEIN', \n",
    "                'LP_FAMILIE_GROB', 'LP_STATUS_FEIN', 'LP_STATUS_GROB', 'NATIONALITAET_KZ', \n",
    "                'SHOPPER_TYP', 'ZABEOTYP', 'GEBAEUDETYP', 'CAMEO_DEUG_2015', 'CAMEO_DEU_2015']\n",
    "drop_categorical = ['KK_KUNDENTYP', 'TITEL_KZ', 'AGER_TYP',\n",
    "                       'LP_LEBENSPHASE_FEIN', 'LP_LEBENSPHASE_GROB', 'WOHNLAGE', 'KBA05_BAUMAX','PLZ8_BAUMAX'] #high error categoricals\n",
    "\n",
    "mixed_cat = ['PRAEGENDE_JUGENDJAHRE', 'CAMEO_INTL_2015']\n",
    "for feature in one_hot_vars+drop_categorical+mixed_cat + ['OST_WEST_KZ']:\n",
    "    if feature in azdias_low.columns:\n",
    "        print('cleaning {0}:'.format(feature))\n",
    "        azdias_low = azdias_low.drop(feature, axis=1)"
   ]
  },
  {
   "cell_type": "markdown",
   "metadata": {},
   "source": [
    "### Step 1.3: Create a Cleaning Function\n",
    "\n",
    "Even though you've finished cleaning up the general population demographics data, it's important to look ahead to the future and realize that you'll need to perform the same cleaning steps on the customer demographics data. In this substep, complete the function below to execute the main feature selection, encoding, and re-engineering steps you performed above. Then, when it comes to looking at the customer data in Step 3, you can just run this function on that DataFrame to get the trimmed dataset in a single step."
   ]
  },
  {
   "cell_type": "code",
   "execution_count": 46,
   "metadata": {},
   "outputs": [],
   "source": [
    "def clean_data(df):\n",
    "    \"\"\"\n",
    "    Perform feature trimming, re-encoding, and engineering for demographics\n",
    "    data\n",
    "    \n",
    "    INPUT: Demographics DataFrame\n",
    "    OUTPUT: Trimmed and cleaned demographics DataFrame\n",
    "    \"\"\"\n",
    "    \n",
    "    '''all main cleaning steps:'''\n",
    "    # convert missing value codes into NaNs, ...\n",
    "    for col in df:\n",
    "        missing_rep = define_missing(feat_info[feat_info['attribute']==col]['missing_or_unknown'].values[0])\n",
    "        if(missing_rep[0] == ''): \n",
    "            df[col] = df[col].replace('', np.nan)\n",
    "        else:\n",
    "            replace_with = [np.nan for i in missing_rep] #create list of None same length as missing_rep\n",
    "            df[col] = df[col].replace(missing_rep, replace_with)\n",
    "    # remove selected columns and rows, ...\n",
    "    features_to_clean = ['AGER_TYP','GEBURTSJAHR','TITEL_KZ', 'ALTER_HH', 'KK_KUNDENTYP',\n",
    "                         'KBA05_BAUMAX']\n",
    "    \n",
    "    df = df.drop(features_to_clean, axis=1)\n",
    "    df['num_null'] = df.isnull().sum(axis=1) #count null for each row\n",
    "    \n",
    "    #keep only low missing value rows\n",
    "    df = df.query('num_null < 21').drop('num_null', axis=1)\n",
    "    \n",
    "    # select, re-encode, and engineer column values.\n",
    "    cat_vars = feat_info[feat_info['type'] == 'categorical']['attribute'].tolist()\n",
    "    mixed_vars = feat_info[feat_info['type'] == 'mixed']['attribute'].tolist()\n",
    "    \n",
    "    #re-encode binary var\n",
    "    df['WEST_KZ'] = df['OST_WEST_KZ'].replace({'W':1, 'O':0})\n",
    "    \n",
    "    #one hot encode\n",
    "    one_hot_vars = ['CJT_GESAMTTYP', 'FINANZTYP','GFK_URLAUBERTYP', 'LP_FAMILIE_FEIN', \n",
    "                'LP_FAMILIE_GROB', 'LP_STATUS_FEIN', 'LP_STATUS_GROB', 'NATIONALITAET_KZ', \n",
    "                'SHOPPER_TYP', 'ZABEOTYP', 'GEBAEUDETYP', 'CAMEO_DEUG_2015', 'CAMEO_DEU_2015']\n",
    "    \n",
    "    for var in one_hot_vars:\n",
    "        imputed_data = imputer_freq(df, var) #fill na-- imputation\n",
    "        encode = pd.get_dummies(imputed_data, prefix=var) #one hot encode\n",
    "\n",
    "        for col in encode.columns: #insert new encoded columns into the dataset\n",
    "            df[col] = encode[col] \n",
    "            \n",
    "    #engineer mixed vars\n",
    "    decade_mapping = {1:40, 2:40,3:50,4:50,5:60,6:60,7:60,8:70,\n",
    "                      9:70,10:80,11:80,12:80,13:80,14:90,15:90}\n",
    "    avantgarde_mapping ={1:0,2:1,3:0,4:1,5:0,6:1,7:1,8:0,\n",
    "                         9:1,10:0,11:1,12:0,13:1,14:0,15:1}\n",
    "    df['AVANTGARDE'] = df['PRAEGENDE_JUGENDJAHRE'].map(avantgarde_mapping)\n",
    "    df['YOUTH_DECADE'] = df['PRAEGENDE_JUGENDJAHRE'].map(decade_mapping)\n",
    "    \n",
    "    df['CAMEO_INTL_2015_WEALTH'] = df['CAMEO_INTL_2015'].apply(decode_wealth)\n",
    "    df['CAMEO_INTL_2015_LIFE'] = df['CAMEO_INTL_2015'].apply(decode_life)\n",
    "    \n",
    "    #remove all features either re-encoded, or not needed for analysis\n",
    "    drop_categorical = ['KK_KUNDENTYP', 'TITEL_KZ', 'AGER_TYP',\n",
    "                       'LP_LEBENSPHASE_FEIN', 'LP_LEBENSPHASE_GROB',\n",
    "                        'WOHNLAGE', 'KBA05_BAUMAX','PLZ8_BAUMAX'] #high error categoricals\n",
    "    \n",
    "    shape_before = df.shape[1]\n",
    "    mixed_cat = ['PRAEGENDE_JUGENDJAHRE', 'CAMEO_INTL_2015']\n",
    "    to_drop = one_hot_vars+drop_categorical+mixed_cat+['OST_WEST_KZ']\n",
    "\n",
    "    #already removed in high NaN column cleaning, make sure we dont try to drop again\n",
    "    for removed in ['AGER_TYP','GEBURTSJAHR','TITEL_KZ', 'ALTER_HH', 'KK_KUNDENTYP',\n",
    "                         'KBA05_BAUMAX']:\n",
    "        if removed in to_drop:\n",
    "            to_drop.remove(removed)\n",
    "    \n",
    "    df = df.drop(to_drop, axis=1) \n",
    "\n",
    "    # Return the cleaned dataframe.\n",
    "    \n",
    "    return df\n",
    "    "
   ]
  },
  {
   "cell_type": "markdown",
   "metadata": {},
   "source": [
    "## Step 2: Feature Transformation\n",
    "\n",
    "### Step 2.1: Apply Feature Scaling\n",
    "\n",
    "Before we apply dimensionality reduction techniques to the data, we need to perform feature scaling so that the principal component vectors are not influenced by the natural differences in scale for features. Starting from this part of the project, you'll want to keep an eye on the [API reference page for sklearn](http://scikit-learn.org/stable/modules/classes.html) to help you navigate to all of the classes and functions that you'll need. In this substep, you'll need to check the following:\n",
    "\n",
    "- sklearn requires that data not have missing values in order for its estimators to work properly. So, before applying the scaler to your data, make sure that you've cleaned the DataFrame of the remaining missing values. This can be as simple as just removing all data points with missing data, or applying an [Imputer](http://scikit-learn.org/stable/modules/generated/sklearn.preprocessing.Imputer.html) to replace all missing values. You might also try a more complicated procedure where you temporarily remove missing values in order to compute the scaling parameters before re-introducing those missing values and applying imputation. Think about how much missing data you have and what possible effects each approach might have on your analysis, and justify your decision in the discussion section below.\n",
    "- For the actual scaling function, a [StandardScaler](http://scikit-learn.org/stable/modules/generated/sklearn.preprocessing.StandardScaler.html) instance is suggested, scaling each feature to mean 0 and standard deviation 1.\n",
    "- For these classes, you can make use of the `.fit_transform()` method to both fit a procedure to the data as well as apply the transformation to the data at the same time. Don't forget to keep the fit sklearn objects handy, since you'll be applying them to the customer demographics data towards the end of the project."
   ]
  },
  {
   "cell_type": "code",
   "execution_count": 47,
   "metadata": {},
   "outputs": [
    {
     "data": {
      "text/plain": [
       "count      192.000000\n",
       "mean      3557.067708\n",
       "std      11390.777442\n",
       "min          0.000000\n",
       "25%          0.000000\n",
       "50%          0.000000\n",
       "75%          0.000000\n",
       "max      64433.000000\n",
       "dtype: float64"
      ]
     },
     "execution_count": 47,
     "metadata": {},
     "output_type": "execute_result"
    }
   ],
   "source": [
    "# If you've not yet cleaned the dataset of all NaN values, then investigate and\n",
    "# do that now.\n",
    "azdias_low.isnull().sum(axis=0).describe()"
   ]
  },
  {
   "cell_type": "code",
   "execution_count": 48,
   "metadata": {},
   "outputs": [
    {
     "data": {
      "text/plain": [
       "ordinal        49\n",
       "categorical    21\n",
       "numeric         7\n",
       "mixed           7\n",
       "interval        1\n",
       "Name: type, dtype: int64"
      ]
     },
     "execution_count": 48,
     "metadata": {},
     "output_type": "execute_result"
    }
   ],
   "source": [
    "feat_info['type'].value_counts()"
   ]
  },
  {
   "cell_type": "code",
   "execution_count": 49,
   "metadata": {},
   "outputs": [],
   "source": [
    "#impute all variables using mode since many are categorical or binary, very few purely continuous vars\n",
    "#highest missing value is 38,000 which is still only about 5.5% of values\n",
    "imputer = Imputer(missing_values='NaN', strategy='most_frequent', axis=0)\n",
    "azdias_imputed = pd.DataFrame(imputer.fit_transform(azdias_low),\n",
    "                              index=azdias_low.index, columns=azdias_low.columns)\n",
    "\n",
    "#end result is new imputed DF"
   ]
  },
  {
   "cell_type": "code",
   "execution_count": 50,
   "metadata": {},
   "outputs": [
    {
     "data": {
      "text/plain": [
       "count    797426.0\n",
       "mean          0.0\n",
       "std           0.0\n",
       "min           0.0\n",
       "25%           0.0\n",
       "50%           0.0\n",
       "75%           0.0\n",
       "max           0.0\n",
       "dtype: float64"
      ]
     },
     "execution_count": 50,
     "metadata": {},
     "output_type": "execute_result"
    }
   ],
   "source": [
    "azdias_imputed.isnull().sum(axis=1).describe()\n",
    "#check that no more null"
   ]
  },
  {
   "cell_type": "code",
   "execution_count": 51,
   "metadata": {},
   "outputs": [],
   "source": [
    "# Apply feature scaling to the general population demographics data.\n",
    "scaler = StandardScaler()\n",
    "\n",
    "azdias_scaled = pd.DataFrame(scaler.fit_transform(azdias_imputed),\n",
    "                              index=azdias_imputed.index, columns=azdias_imputed.columns)"
   ]
  },
  {
   "cell_type": "code",
   "execution_count": 55,
   "metadata": {},
   "outputs": [
    {
     "data": {
      "text/html": [
       "<div>\n",
       "<style>\n",
       "    .dataframe thead tr:only-child th {\n",
       "        text-align: right;\n",
       "    }\n",
       "\n",
       "    .dataframe thead th {\n",
       "        text-align: left;\n",
       "    }\n",
       "\n",
       "    .dataframe tbody tr th {\n",
       "        vertical-align: top;\n",
       "    }\n",
       "</style>\n",
       "<table border=\"1\" class=\"dataframe\">\n",
       "  <thead>\n",
       "    <tr style=\"text-align: right;\">\n",
       "      <th></th>\n",
       "      <th>ALTERSKATEGORIE_GROB</th>\n",
       "      <th>ANREDE_KZ</th>\n",
       "      <th>FINANZ_MINIMALIST</th>\n",
       "      <th>FINANZ_SPARER</th>\n",
       "      <th>FINANZ_VORSORGER</th>\n",
       "      <th>FINANZ_ANLEGER</th>\n",
       "      <th>FINANZ_UNAUFFAELLIGER</th>\n",
       "      <th>FINANZ_HAUSBAUER</th>\n",
       "      <th>GREEN_AVANTGARDE</th>\n",
       "      <th>HEALTH_TYP</th>\n",
       "      <th>...</th>\n",
       "      <th>CAMEO_DEU_2015_8D</th>\n",
       "      <th>CAMEO_DEU_2015_9A</th>\n",
       "      <th>CAMEO_DEU_2015_9B</th>\n",
       "      <th>CAMEO_DEU_2015_9C</th>\n",
       "      <th>CAMEO_DEU_2015_9D</th>\n",
       "      <th>CAMEO_DEU_2015_9E</th>\n",
       "      <th>AVANTGARDE</th>\n",
       "      <th>YOUTH_DECADE</th>\n",
       "      <th>CAMEO_INTL_2015_WEALTH</th>\n",
       "      <th>CAMEO_INTL_2015_LIFE</th>\n",
       "    </tr>\n",
       "  </thead>\n",
       "  <tbody>\n",
       "    <tr>\n",
       "      <th>count</th>\n",
       "      <td>7.974260e+05</td>\n",
       "      <td>7.974260e+05</td>\n",
       "      <td>7.974260e+05</td>\n",
       "      <td>7.974260e+05</td>\n",
       "      <td>7.974260e+05</td>\n",
       "      <td>7.974260e+05</td>\n",
       "      <td>7.974260e+05</td>\n",
       "      <td>7.974260e+05</td>\n",
       "      <td>7.974260e+05</td>\n",
       "      <td>7.974260e+05</td>\n",
       "      <td>...</td>\n",
       "      <td>7.974260e+05</td>\n",
       "      <td>7.974260e+05</td>\n",
       "      <td>7.974260e+05</td>\n",
       "      <td>7.974260e+05</td>\n",
       "      <td>7.974260e+05</td>\n",
       "      <td>7.974260e+05</td>\n",
       "      <td>7.974260e+05</td>\n",
       "      <td>7.974260e+05</td>\n",
       "      <td>7.974260e+05</td>\n",
       "      <td>7.974260e+05</td>\n",
       "    </tr>\n",
       "    <tr>\n",
       "      <th>mean</th>\n",
       "      <td>8.509483e-17</td>\n",
       "      <td>8.277811e-17</td>\n",
       "      <td>1.346548e-16</td>\n",
       "      <td>-8.425725e-17</td>\n",
       "      <td>-3.776250e-17</td>\n",
       "      <td>-9.630418e-17</td>\n",
       "      <td>1.835286e-16</td>\n",
       "      <td>-8.126334e-17</td>\n",
       "      <td>-1.561111e-17</td>\n",
       "      <td>-8.625319e-17</td>\n",
       "      <td>...</td>\n",
       "      <td>-2.017327e-17</td>\n",
       "      <td>-2.060988e-17</td>\n",
       "      <td>3.715659e-18</td>\n",
       "      <td>-1.407852e-18</td>\n",
       "      <td>1.045464e-16</td>\n",
       "      <td>5.556559e-17</td>\n",
       "      <td>-1.561111e-17</td>\n",
       "      <td>-3.827753e-16</td>\n",
       "      <td>4.856197e-17</td>\n",
       "      <td>4.130886e-17</td>\n",
       "    </tr>\n",
       "    <tr>\n",
       "      <th>std</th>\n",
       "      <td>1.000001e+00</td>\n",
       "      <td>1.000001e+00</td>\n",
       "      <td>1.000001e+00</td>\n",
       "      <td>1.000001e+00</td>\n",
       "      <td>1.000001e+00</td>\n",
       "      <td>1.000001e+00</td>\n",
       "      <td>1.000001e+00</td>\n",
       "      <td>1.000001e+00</td>\n",
       "      <td>1.000001e+00</td>\n",
       "      <td>1.000001e+00</td>\n",
       "      <td>...</td>\n",
       "      <td>1.000001e+00</td>\n",
       "      <td>1.000001e+00</td>\n",
       "      <td>1.000001e+00</td>\n",
       "      <td>1.000001e+00</td>\n",
       "      <td>1.000001e+00</td>\n",
       "      <td>1.000001e+00</td>\n",
       "      <td>1.000001e+00</td>\n",
       "      <td>1.000001e+00</td>\n",
       "      <td>1.000001e+00</td>\n",
       "      <td>1.000001e+00</td>\n",
       "    </tr>\n",
       "    <tr>\n",
       "      <th>min</th>\n",
       "      <td>-1.766334e+00</td>\n",
       "      <td>-1.043765e+00</td>\n",
       "      <td>-1.494609e+00</td>\n",
       "      <td>-1.155304e+00</td>\n",
       "      <td>-1.766955e+00</td>\n",
       "      <td>-1.249881e+00</td>\n",
       "      <td>-1.184467e+00</td>\n",
       "      <td>-1.502317e+00</td>\n",
       "      <td>-5.305674e-01</td>\n",
       "      <td>-1.633717e+00</td>\n",
       "      <td>...</td>\n",
       "      <td>-1.500906e-01</td>\n",
       "      <td>-1.625923e-01</td>\n",
       "      <td>-1.895778e-01</td>\n",
       "      <td>-1.798523e-01</td>\n",
       "      <td>-1.928439e-01</td>\n",
       "      <td>-8.974298e-02</td>\n",
       "      <td>-5.305674e-01</td>\n",
       "      <td>-2.316187e+00</td>\n",
       "      <td>-1.551476e+00</td>\n",
       "      <td>-1.249157e+00</td>\n",
       "    </tr>\n",
       "    <tr>\n",
       "      <th>25%</th>\n",
       "      <td>-7.828722e-01</td>\n",
       "      <td>-1.043765e+00</td>\n",
       "      <td>-7.686897e-01</td>\n",
       "      <td>-1.155304e+00</td>\n",
       "      <td>-1.040726e+00</td>\n",
       "      <td>-1.249881e+00</td>\n",
       "      <td>-1.184467e+00</td>\n",
       "      <td>-7.920337e-01</td>\n",
       "      <td>-5.305674e-01</td>\n",
       "      <td>-3.116745e-01</td>\n",
       "      <td>...</td>\n",
       "      <td>-1.500906e-01</td>\n",
       "      <td>-1.625923e-01</td>\n",
       "      <td>-1.895778e-01</td>\n",
       "      <td>-1.798523e-01</td>\n",
       "      <td>-1.928439e-01</td>\n",
       "      <td>-8.974298e-02</td>\n",
       "      <td>-5.305674e-01</td>\n",
       "      <td>-9.502996e-01</td>\n",
       "      <td>-8.696736e-01</td>\n",
       "      <td>-1.249157e+00</td>\n",
       "    </tr>\n",
       "    <tr>\n",
       "      <th>50%</th>\n",
       "      <td>2.005893e-01</td>\n",
       "      <td>9.580705e-01</td>\n",
       "      <td>-4.276997e-02</td>\n",
       "      <td>1.914482e-01</td>\n",
       "      <td>4.117312e-01</td>\n",
       "      <td>1.082835e-01</td>\n",
       "      <td>-4.697522e-01</td>\n",
       "      <td>-8.175029e-02</td>\n",
       "      <td>-5.305674e-01</td>\n",
       "      <td>-3.116745e-01</td>\n",
       "      <td>...</td>\n",
       "      <td>-1.500906e-01</td>\n",
       "      <td>-1.625923e-01</td>\n",
       "      <td>-1.895778e-01</td>\n",
       "      <td>-1.798523e-01</td>\n",
       "      <td>-1.928439e-01</td>\n",
       "      <td>-8.974298e-02</td>\n",
       "      <td>-5.305674e-01</td>\n",
       "      <td>4.155877e-01</td>\n",
       "      <td>4.939317e-01</td>\n",
       "      <td>9.484474e-02</td>\n",
       "    </tr>\n",
       "    <tr>\n",
       "      <th>75%</th>\n",
       "      <td>1.184051e+00</td>\n",
       "      <td>9.580705e-01</td>\n",
       "      <td>6.831497e-01</td>\n",
       "      <td>8.648242e-01</td>\n",
       "      <td>1.137960e+00</td>\n",
       "      <td>7.873659e-01</td>\n",
       "      <td>9.596769e-01</td>\n",
       "      <td>6.285331e-01</td>\n",
       "      <td>-5.305674e-01</td>\n",
       "      <td>1.010368e+00</td>\n",
       "      <td>...</td>\n",
       "      <td>-1.500906e-01</td>\n",
       "      <td>-1.625923e-01</td>\n",
       "      <td>-1.895778e-01</td>\n",
       "      <td>-1.798523e-01</td>\n",
       "      <td>-1.928439e-01</td>\n",
       "      <td>-8.974298e-02</td>\n",
       "      <td>-5.305674e-01</td>\n",
       "      <td>1.098531e+00</td>\n",
       "      <td>1.175734e+00</td>\n",
       "      <td>7.668454e-01</td>\n",
       "    </tr>\n",
       "    <tr>\n",
       "      <th>max</th>\n",
       "      <td>1.184051e+00</td>\n",
       "      <td>9.580705e-01</td>\n",
       "      <td>1.409069e+00</td>\n",
       "      <td>1.538200e+00</td>\n",
       "      <td>1.137960e+00</td>\n",
       "      <td>1.466448e+00</td>\n",
       "      <td>1.674391e+00</td>\n",
       "      <td>1.338816e+00</td>\n",
       "      <td>1.884775e+00</td>\n",
       "      <td>1.010368e+00</td>\n",
       "      <td>...</td>\n",
       "      <td>6.662644e+00</td>\n",
       "      <td>6.150354e+00</td>\n",
       "      <td>5.274880e+00</td>\n",
       "      <td>5.560118e+00</td>\n",
       "      <td>5.185540e+00</td>\n",
       "      <td>1.114293e+01</td>\n",
       "      <td>1.884775e+00</td>\n",
       "      <td>1.098531e+00</td>\n",
       "      <td>1.175734e+00</td>\n",
       "      <td>1.438846e+00</td>\n",
       "    </tr>\n",
       "  </tbody>\n",
       "</table>\n",
       "<p>8 rows × 192 columns</p>\n",
       "</div>"
      ],
      "text/plain": [
       "       ALTERSKATEGORIE_GROB     ANREDE_KZ  FINANZ_MINIMALIST  FINANZ_SPARER  \\\n",
       "count          7.974260e+05  7.974260e+05       7.974260e+05   7.974260e+05   \n",
       "mean           8.509483e-17  8.277811e-17       1.346548e-16  -8.425725e-17   \n",
       "std            1.000001e+00  1.000001e+00       1.000001e+00   1.000001e+00   \n",
       "min           -1.766334e+00 -1.043765e+00      -1.494609e+00  -1.155304e+00   \n",
       "25%           -7.828722e-01 -1.043765e+00      -7.686897e-01  -1.155304e+00   \n",
       "50%            2.005893e-01  9.580705e-01      -4.276997e-02   1.914482e-01   \n",
       "75%            1.184051e+00  9.580705e-01       6.831497e-01   8.648242e-01   \n",
       "max            1.184051e+00  9.580705e-01       1.409069e+00   1.538200e+00   \n",
       "\n",
       "       FINANZ_VORSORGER  FINANZ_ANLEGER  FINANZ_UNAUFFAELLIGER  \\\n",
       "count      7.974260e+05    7.974260e+05           7.974260e+05   \n",
       "mean      -3.776250e-17   -9.630418e-17           1.835286e-16   \n",
       "std        1.000001e+00    1.000001e+00           1.000001e+00   \n",
       "min       -1.766955e+00   -1.249881e+00          -1.184467e+00   \n",
       "25%       -1.040726e+00   -1.249881e+00          -1.184467e+00   \n",
       "50%        4.117312e-01    1.082835e-01          -4.697522e-01   \n",
       "75%        1.137960e+00    7.873659e-01           9.596769e-01   \n",
       "max        1.137960e+00    1.466448e+00           1.674391e+00   \n",
       "\n",
       "       FINANZ_HAUSBAUER  GREEN_AVANTGARDE    HEALTH_TYP          ...           \\\n",
       "count      7.974260e+05      7.974260e+05  7.974260e+05          ...            \n",
       "mean      -8.126334e-17     -1.561111e-17 -8.625319e-17          ...            \n",
       "std        1.000001e+00      1.000001e+00  1.000001e+00          ...            \n",
       "min       -1.502317e+00     -5.305674e-01 -1.633717e+00          ...            \n",
       "25%       -7.920337e-01     -5.305674e-01 -3.116745e-01          ...            \n",
       "50%       -8.175029e-02     -5.305674e-01 -3.116745e-01          ...            \n",
       "75%        6.285331e-01     -5.305674e-01  1.010368e+00          ...            \n",
       "max        1.338816e+00      1.884775e+00  1.010368e+00          ...            \n",
       "\n",
       "       CAMEO_DEU_2015_8D  CAMEO_DEU_2015_9A  CAMEO_DEU_2015_9B  \\\n",
       "count       7.974260e+05       7.974260e+05       7.974260e+05   \n",
       "mean       -2.017327e-17      -2.060988e-17       3.715659e-18   \n",
       "std         1.000001e+00       1.000001e+00       1.000001e+00   \n",
       "min        -1.500906e-01      -1.625923e-01      -1.895778e-01   \n",
       "25%        -1.500906e-01      -1.625923e-01      -1.895778e-01   \n",
       "50%        -1.500906e-01      -1.625923e-01      -1.895778e-01   \n",
       "75%        -1.500906e-01      -1.625923e-01      -1.895778e-01   \n",
       "max         6.662644e+00       6.150354e+00       5.274880e+00   \n",
       "\n",
       "       CAMEO_DEU_2015_9C  CAMEO_DEU_2015_9D  CAMEO_DEU_2015_9E    AVANTGARDE  \\\n",
       "count       7.974260e+05       7.974260e+05       7.974260e+05  7.974260e+05   \n",
       "mean       -1.407852e-18       1.045464e-16       5.556559e-17 -1.561111e-17   \n",
       "std         1.000001e+00       1.000001e+00       1.000001e+00  1.000001e+00   \n",
       "min        -1.798523e-01      -1.928439e-01      -8.974298e-02 -5.305674e-01   \n",
       "25%        -1.798523e-01      -1.928439e-01      -8.974298e-02 -5.305674e-01   \n",
       "50%        -1.798523e-01      -1.928439e-01      -8.974298e-02 -5.305674e-01   \n",
       "75%        -1.798523e-01      -1.928439e-01      -8.974298e-02 -5.305674e-01   \n",
       "max         5.560118e+00       5.185540e+00       1.114293e+01  1.884775e+00   \n",
       "\n",
       "       YOUTH_DECADE  CAMEO_INTL_2015_WEALTH  CAMEO_INTL_2015_LIFE  \n",
       "count  7.974260e+05            7.974260e+05          7.974260e+05  \n",
       "mean  -3.827753e-16            4.856197e-17          4.130886e-17  \n",
       "std    1.000001e+00            1.000001e+00          1.000001e+00  \n",
       "min   -2.316187e+00           -1.551476e+00         -1.249157e+00  \n",
       "25%   -9.502996e-01           -8.696736e-01         -1.249157e+00  \n",
       "50%    4.155877e-01            4.939317e-01          9.484474e-02  \n",
       "75%    1.098531e+00            1.175734e+00          7.668454e-01  \n",
       "max    1.098531e+00            1.175734e+00          1.438846e+00  \n",
       "\n",
       "[8 rows x 192 columns]"
      ]
     },
     "execution_count": 55,
     "metadata": {},
     "output_type": "execute_result"
    }
   ],
   "source": [
    "azdias_scaled.describe()"
   ]
  },
  {
   "cell_type": "markdown",
   "metadata": {},
   "source": [
    "### Discussion 2.1: Apply Feature Scaling\n",
    "\n",
    "1. I first had to make sure that there were no null values in the data set. Most of the data had very few nulls left. Only two features had more than 20,000 NaN, which is only about 5% of all the values.\n",
    "    * I decided that the best imputation method was mode instead of mean. Most of the values are categorical, and even some of the numeric values like birth year wouldnt make sense if they were continuous. Therefore, I imputed using most_frequent\n",
    "    \n",
    "2. I used the StandardScaler() provided by sklearn.preprocessing to scale all the values to mean 0 and stdDev = 1. This was suggested in the writeup."
   ]
  },
  {
   "cell_type": "markdown",
   "metadata": {},
   "source": [
    "### Step 2.2: Perform Dimensionality Reduction\n",
    "\n",
    "On your scaled data, you are now ready to apply dimensionality reduction techniques.\n",
    "\n",
    "- Use sklearn's [PCA](http://scikit-learn.org/stable/modules/generated/sklearn.decomposition.PCA.html) class to apply principal component analysis on the data, thus finding the vectors of maximal variance in the data. To start, you should not set any parameters (so all components are computed) or set a number of components that is at least half the number of features (so there's enough features to see the general trend in variability).\n",
    "- Check out the ratio of variance explained by each principal component as well as the cumulative variance explained. Try plotting the cumulative or sequential values using matplotlib's [`plot()`](https://matplotlib.org/api/_as_gen/matplotlib.pyplot.plot.html) function. Based on what you find, select a value for the number of transformed features you'll retain for the clustering part of the project.\n",
    "- Once you've made a choice for the number of components to keep, make sure you re-fit a PCA instance to perform the decided-on transformation."
   ]
  },
  {
   "cell_type": "code",
   "execution_count": 53,
   "metadata": {},
   "outputs": [],
   "source": [
    "# Apply PCA to the data.\n",
    "pca = PCA()\n",
    "pca_fit = pca.fit(azdias_scaled)"
   ]
  },
  {
   "cell_type": "code",
   "execution_count": 54,
   "metadata": {},
   "outputs": [],
   "source": [
    "def scree_plot(pca): ##code from helper_functions.py in PCA lesson\n",
    "    '''\n",
    "    Creates a scree plot associated with the principal components \n",
    "    \n",
    "    INPUT: pca - the result of instantian of PCA in scikit learn\n",
    "            \n",
    "    RETURN: None\n",
    "    '''\n",
    "    num_components= len(pca.explained_variance_ratio_)\n",
    "    idx = np.arange(num_components)\n",
    "    vals = pca.explained_variance_ratio_\n",
    " \n",
    "    plt.figure(figsize=(15, 10))\n",
    "    ax = plt.subplot(111)\n",
    "    cumvals = np.cumsum(vals)\n",
    "    ax.bar(idx, vals)\n",
    "    ax.plot(idx, cumvals)\n",
    "    for i in range(num_components):\n",
    "        if(i%20 == 0 or i<6):\n",
    "            ax.annotate(r\"%s%%\" % ((str(vals[i]*100)[:4])), (idx[i]+0.2, vals[i]), va=\"bottom\", ha=\"center\", fontsize=8)\n",
    " \n",
    "    ax.xaxis.set_tick_params(width=0, gridOn=True)\n",
    "    ax.yaxis.set_tick_params(width=2, length=12, gridOn=True)\n",
    " \n",
    "    ax.set_xlabel(\"Principal Component\")\n",
    "    ax.set_ylabel(\"Variance Explained (%)\")\n",
    "    plt.title('Explained Variance Per Principal Component')"
   ]
  },
  {
   "cell_type": "code",
   "execution_count": 56,
   "metadata": {},
   "outputs": [
    {
     "data": {
      "image/png": "[encoded data removed]",
      "text/plain": [
       "<matplotlib.figure.Figure at 0x7f89816e1518>"
      ]
     },
     "metadata": {},
     "output_type": "display_data"
    }
   ],
   "source": [
    "# Investigate the variance accounted for by each principal component.\n",
    "scree_plot(pca_fit)"
   ]
  },
  {
   "cell_type": "code",
   "execution_count": 72,
   "metadata": {},
   "outputs": [],
   "source": [
    "# Re-apply PCA to the data while selecting for number of components to retain.\n",
    "pca = PCA(n_components=75)\n",
    "pca.fit(azdias_scaled)\n",
    "pca_data = pca_fit.transform(azdias_scaled)"
   ]
  },
  {
   "cell_type": "markdown",
   "metadata": {},
   "source": [
    "### Discussion 2.2: Perform Dimensionality Reduction\n",
    "\n",
    "The Principal Component Analysis with all of the Principal Components showed that the first 6 Principal Components each explain more than 3% of the total variance, with the highest explained variance for a single Principal Component being ~8%. The first 15 Principal Components explain 40% of all the variance. I am retaining 75 of the 185 Prinicpal Components for the analysis, as they explain about 75% of the total variance.\n",
    "\n",
    "It is interesting to note that the last 50 components (#125-175) explain very little of the variance."
   ]
  },
  {
   "cell_type": "markdown",
   "metadata": {},
   "source": [
    "### Step 2.3: Interpret Principal Components\n",
    "\n",
    "Now that we have our transformed principal components, it's a nice idea to check out the weight of each variable on the first few components to see if they can be interpreted in some fashion.\n",
    "\n",
    "As a reminder, each principal component is a unit vector that points in the direction of highest variance (after accounting for the variance captured by earlier principal components). The further a weight is from zero, the more the principal component is in the direction of the corresponding feature. If two features have large weights of the same sign (both positive or both negative), then increases in one tend expect to be associated with increases in the other. To contrast, features with different signs can be expected to show a negative correlation: increases in one variable should result in a decrease in the other.\n",
    "\n",
    "- To investigate the features, you should map each weight to their corresponding feature name, then sort the features according to weight. The most interesting features for each principal component, then, will be those at the beginning and end of the sorted list. Use the data dictionary document to help you understand these most prominent features, their relationships, and what a positive or negative value on the principal component might indicate.\n",
    "- You should investigate and interpret feature associations from the first three principal components in this substep. To help facilitate this, you should write a function that you can call at any time to print the sorted list of feature weights, for the *i*-th principal component. This might come in handy in the next step of the project, when you interpret the tendencies of the discovered clusters."
   ]
  },
  {
   "cell_type": "code",
   "execution_count": 78,
   "metadata": {},
   "outputs": [],
   "source": [
    "def investigate_PC(pca, component, feature_names):\n",
    "    #code inspired by helper_functions.py in PCA lesson\n",
    "    '''\n",
    "    Prints association of a feature to the weights of its components\n",
    "    INPUT: pca: PCA object, compnent: which component is to be investigated (0 indexed),\n",
    "            feature_names: the corresponding feature names to PCA\n",
    "    OUTPUT: None\n",
    "    '''\n",
    "    \n",
    "    num_out = 10\n",
    "    \n",
    "    if(component <= len(pca.components_)):\n",
    "        pca_feature_map = pd.DataFrame({'weight': pca.components_[component],\n",
    "                                        'name': feature_names})\n",
    "        \n",
    "        pca_feature_map = pca_feature_map.sort_values(by='weight', ascending=False)\n",
    "        \n",
    "        print('Principal Component {}\\n---------------\\n'.format(component+1))\n",
    "        print('TOP {0} PRINCIPAL COMPONENTS \\n {1}'.format(num_out, pca_feature_map.iloc[:num_out,:]))\n",
    "        print('\\n BOTTOM {0} PRINCIPAL COMPONENTS \\n {1}'.format(num_out, pca_feature_map.iloc[-num_out:,:]))\n",
    "            \n",
    "    else:\n",
    "        print('Error in selecting component')\n",
    "    "
   ]
  },
  {
   "cell_type": "code",
   "execution_count": 79,
   "metadata": {},
   "outputs": [
    {
     "name": "stdout",
     "output_type": "stream",
     "text": [
      "Principal Component 1\n",
      "---------------\n",
      "\n",
      "TOP 10 PRINCIPAL COMPONENTS \n",
      "                        name    weight\n",
      "110      LP_STATUS_GROB_1.0  0.196925\n",
      "29       HH_EINKOMMEN_SCORE  0.186677\n",
      "190  CAMEO_INTL_2015_WEALTH  0.185356\n",
      "52               PLZ8_ANTG3  0.181611\n",
      "53               PLZ8_ANTG4  0.175243\n",
      "57              ORTSGR_KLS9  0.154711\n",
      "42                 EWDICHTE  0.153126\n",
      "7          FINANZ_HAUSBAUER  0.148597\n",
      "39              KBA05_ANTG4  0.129656\n",
      "100      LP_STATUS_FEIN_1.0  0.126089\n",
      "\n",
      " BOTTOM 10 PRINCIPAL COMPONENTS \n",
      "                     name    weight\n",
      "109  LP_STATUS_FEIN_10.0 -0.116694\n",
      "114   LP_STATUS_GROB_5.0 -0.116694\n",
      "43            INNENSTADT -0.127521\n",
      "55              PLZ8_GBZ -0.132873\n",
      "34           KONSUMNAEHE -0.136639\n",
      "36           KBA05_ANTG1 -0.181174\n",
      "40             KBA05_GBZ -0.181534\n",
      "50            PLZ8_ANTG1 -0.182907\n",
      "46            MOBI_REGIO -0.188613\n",
      "2      FINANZ_MINIMALIST -0.194567\n"
     ]
    }
   ],
   "source": [
    "# Map weights for the first principal component to corresponding feature names\n",
    "# and then print the linked values, sorted by weight.\n",
    "# HINT: Try defining a function here or in a new cell that you can reuse in the\n",
    "# other cells.\n",
    "investigate_PC(pca, 0, azdias_scaled.columns)"
   ]
  },
  {
   "cell_type": "code",
   "execution_count": 80,
   "metadata": {},
   "outputs": [
    {
     "name": "stdout",
     "output_type": "stream",
     "text": [
      "Principal Component 2\n",
      "---------------\n",
      "\n",
      "TOP 10 PRINCIPAL COMPONENTS \n",
      "                      name    weight\n",
      "0    ALTERSKATEGORIE_GROB  0.231581\n",
      "4        FINANZ_VORSORGER  0.217361\n",
      "124            ZABEOTYP_3  0.200471\n",
      "17              SEMIO_ERL  0.180035\n",
      "16             SEMIO_LUST  0.162635\n",
      "10         RETOURTYP_BK_S  0.155197\n",
      "30         W_KEIT_KIND_HH  0.124836\n",
      "61      CJT_GESAMTTYP_2.0  0.107915\n",
      "100    LP_STATUS_FEIN_1.0  0.099556\n",
      "70            FINANZTYP_5  0.098159\n",
      "\n",
      " BOTTOM 10 PRINCIPAL COMPONENTS \n",
      "                       name    weight\n",
      "47       ONLINE_AFFINITAET -0.164098\n",
      "18              SEMIO_KULT -0.164868\n",
      "19               SEMIO_RAT -0.166827\n",
      "5           FINANZ_ANLEGER -0.202601\n",
      "23           SEMIO_PFLICHT -0.203935\n",
      "24             SEMIO_TRADV -0.207127\n",
      "13               SEMIO_REL -0.213393\n",
      "6    FINANZ_UNAUFFAELLIGER -0.214511\n",
      "3            FINANZ_SPARER -0.224781\n",
      "189           YOUTH_DECADE -0.229264\n"
     ]
    }
   ],
   "source": [
    "# Map weights for the second principal component to corresponding feature names\n",
    "# and then print the linked values, sorted by weight.\n",
    "investigate_PC(pca, 1, azdias_scaled.columns)"
   ]
  },
  {
   "cell_type": "code",
   "execution_count": 81,
   "metadata": {},
   "outputs": [
    {
     "name": "stdout",
     "output_type": "stream",
     "text": [
      "Principal Component 3\n",
      "---------------\n",
      "\n",
      "TOP 10 PRINCIPAL COMPONENTS \n",
      "                   name    weight\n",
      "15          SEMIO_VERT  0.318735\n",
      "12           SEMIO_FAM  0.260611\n",
      "11           SEMIO_SOZ  0.256831\n",
      "18          SEMIO_KULT  0.251379\n",
      "70         FINANZTYP_5  0.135960\n",
      "2    FINANZ_MINIMALIST  0.128876\n",
      "118    SHOPPER_TYP_0.0  0.123472\n",
      "122         ZABEOTYP_1  0.116485\n",
      "13           SEMIO_REL  0.113501\n",
      "14           SEMIO_MAT  0.088814\n",
      "\n",
      " BOTTOM 10 PRINCIPAL COMPONENTS \n",
      "                    name    weight\n",
      "101  LP_STATUS_FEIN_2.0 -0.079060\n",
      "120     SHOPPER_TYP_2.0 -0.092463\n",
      "66          FINANZTYP_1 -0.100098\n",
      "5        FINANZ_ANLEGER -0.154017\n",
      "19            SEMIO_RAT -0.154982\n",
      "17            SEMIO_ERL -0.207804\n",
      "20           SEMIO_KRIT -0.267379\n",
      "21            SEMIO_DOM -0.284067\n",
      "22           SEMIO_KAEM -0.315171\n",
      "1             ANREDE_KZ -0.344961\n"
     ]
    }
   ],
   "source": [
    "# Map weights for the third principal component to corresponding feature names\n",
    "# and then print the linked values, sorted by weight.\n",
    "investigate_PC(pca, 2, azdias_scaled.columns)"
   ]
  },
  {
   "cell_type": "markdown",
   "metadata": {},
   "source": [
    "### Discussion 2.3: Interpret Principal Components\n",
    "\n",
    "*Each principal component is a unit vector that points in the direction of highest variance (after accounting for the variance captured by earlier principal components). The further a weight is from zero, the more the principal component is in the direction of the corresponding feature. If two features have large weights of the same sign (both positive or both negative), then increases in one tend expect to be associated with increases in the other. To contrast, features with different signs can be expected to show a negative correlation: increases in one variable should result in a decrease in the other.*\n",
    "\n",
    "##### 1st Principal Component\n",
    "The first principal component is explained mostly by the `LP_STATUS_GROB_1.0` variable which shows the social status: *low-income earner* of a specific person. The next three features with highest weight: `HH_EINKOMMEN_SCORE`, `CAMEO_INTL_2015_WEALTH`, `PLZ8_ANTG3`, are all also a certain measure of wealth or income. We can reconcile this with the fact that features with large weights in the same sign are a sign of correlation between the variables. Realistically, we would expect that each feature portraying wealth would be correlated.\n",
    "The three most negatively correlated features are: `FINANZ_MINIMALIST`,`KBA05_ANTG1`, `MOBI_REGIO`. For example: `FINANZ_MINIMALIST`, shows the lack of interest of someone in finance, which has an obvious negative correlation to wealth.\n",
    "\n",
    "##### 2nd Principal Component\n",
    "The second principal component is explained mostly by: `ALTERSKATEGORIE_GROB`,  `FINANZ_VORSORGER`, `ZABEOTYP_3`, and the least by: `YOUTH_DECADE`, `FINANZ_SPARER`, `SEMIO_REL`. This is a mixture of age, financial awareness, and environmental/religious awareness respectively. \n",
    "\n",
    "##### 3rd Principal Component\n",
    "I find this third component most interesting, as many of the features that explain this principal component relate to personality traits. The most explanatory feature is `SEMIO_VERT` which is a measure of 'dreamfulness', followed by `SEMIO_FAM`: family-mindedness, `SEMIO_SOZ`: socially-mindedness and so forth. The least explanatory features, and those most negatively correlated are interestingly: `ANREDE_KZ` which shows gender, `SEMIO_KAEM` which is a combative-minded feature, `SEMIO_DOM` which is a dominant-minded feature and so forth.\n",
    "\n",
    "------\n",
    "What is interesting is that as we move through the principal components, at least the first three, the weights on features become larger. This means that those features more strongly explain the principal component, after accounting for the variance captured by earlier principal components."
   ]
  },
  {
   "cell_type": "markdown",
   "metadata": {},
   "source": [
    "## Step 3: Clustering\n",
    "\n",
    "### Step 3.1: Apply Clustering to General Population\n",
    "\n",
    "You've assessed and cleaned the demographics data, then scaled and transformed them. Now, it's time to see how the data clusters in the principal components space. In this substep, you will apply k-means clustering to the dataset and use the average within-cluster distances from each point to their assigned cluster's centroid to decide on a number of clusters to keep.\n",
    "\n",
    "- Use sklearn's [KMeans](http://scikit-learn.org/stable/modules/generated/sklearn.cluster.KMeans.html#sklearn.cluster.KMeans) class to perform k-means clustering on the PCA-transformed data.\n",
    "- Then, compute the average difference from each point to its assigned cluster's center. **Hint**: The KMeans object's `.score()` method might be useful here, but note that in sklearn, scores tend to be defined so that larger is better. Try applying it to a small, toy dataset, or use an internet search to help your understanding.\n",
    "- Perform the above two steps for a number of different cluster counts. You can then see how the average distance decreases with an increasing number of clusters. However, each additional cluster provides a smaller net benefit. Use this fact to select a final number of clusters in which to group the data. **Warning**: because of the large size of the dataset, it can take a long time for the algorithm to resolve. The more clusters to fit, the longer the algorithm will take. You should test for cluster counts through at least 10 clusters to get the full picture, but you shouldn't need to test for a number of clusters above about 30.\n",
    "- Once you've selected a final number of clusters to use, re-fit a KMeans instance to perform the clustering operation. Make sure that you also obtain the cluster assignments for the general demographics data, since you'll be using them in the final Step 3.3."
   ]
  },
  {
   "cell_type": "code",
   "execution_count": 217,
   "metadata": {},
   "outputs": [],
   "source": [
    "model_score=[]\n",
    "clusters = np.arange(1,20)\n",
    "# Over a number of different cluster counts...\n",
    "for i in clusters:\n",
    "    # run k-means clustering on the data and...\n",
    "    kmeans = KMeans(i).fit(pca_data)\n",
    "    \n",
    "    # compute the average within-cluster distances.\n",
    "    model_score.append(abs(kmeans.score(pca_data)))\n",
    "    "
   ]
  },
  {
   "cell_type": "code",
   "execution_count": 218,
   "metadata": {},
   "outputs": [
    {
     "data": {
      "image/png": "[encoded data removed]",
      "text/plain": [
       "<matplotlib.figure.Figure at 0x7f5e0ea62710>"
      ]
     },
     "metadata": {},
     "output_type": "display_data"
    }
   ],
   "source": [
    "# Investigate the change in within-cluster distance across number of clusters.\n",
    "# HINT: Use matplotlib's plot function to visualize this relationship.\n",
    "fig, ax = plt.subplots()\n",
    "ax.plot(clusters, model_score)\n",
    "ax.set(ylabel='avg distance', xlabel='# Clusters: k')\n",
    "ax.grid()\n",
    "plt.show()"
   ]
  },
  {
   "cell_type": "code",
   "execution_count": 82,
   "metadata": {},
   "outputs": [],
   "source": [
    "# Re-fit the k-means model with the selected number of clusters and obtain\n",
    "# cluster predictions for the general population demographics data.\n",
    "kmeans = KMeans(10).fit(pca_data)\n",
    "kmeans_pred = kmeans.predict(pca_data)"
   ]
  },
  {
   "cell_type": "markdown",
   "metadata": {},
   "source": [
    "### Discussion 3.1: Apply Clustering to General Population\n",
    "\n",
    "When investigating clustering and drawing scree-plot, I did not find a specific kink in the graph, but rather the average distance kept decreasing. The largest decrease happened in the first 5 clusters, before the benefit of adding an extra cluster starts levelling out. This is why I chose to segment the population into 10 clusters, a nice round number where the average distance is starting to level out on the scree plot."
   ]
  },
  {
   "cell_type": "markdown",
   "metadata": {},
   "source": [
    "### Step 3.2: Apply All Steps to the Customer Data\n",
    "\n",
    "Now that you have clusters and cluster centers for the general population, it's time to see how the customer data maps on to those clusters. Take care to not confuse this for re-fitting all of the models to the customer data. Instead, you're going to use the fits from the general population to clean, transform, and cluster the customer data. In the last step of the project, you will interpret how the general population fits apply to the customer data.\n",
    "\n",
    "- Don't forget when loading in the customers data, that it is semicolon (`;`) delimited.\n",
    "- Apply the same feature wrangling, selection, and engineering steps to the customer demographics using the `clean_data()` function you created earlier. (You can assume that the customer demographics data has similar meaning behind missing data patterns as the general demographics data.)\n",
    "- Use the sklearn objects from the general demographics data, and apply their transformations to the customers data. That is, you should not be using a `.fit()` or `.fit_transform()` method to re-fit the old objects, nor should you be creating new sklearn objects! Carry the data through the feature scaling, PCA, and clustering steps, obtaining cluster assignments for all of the data in the customer demographics data."
   ]
  },
  {
   "cell_type": "code",
   "execution_count": 119,
   "metadata": {},
   "outputs": [],
   "source": [
    "# Load in the customer demographics data.\n",
    "customers = pd.read_csv('Udacity_CUSTOMERS_Subset.csv', sep=';')"
   ]
  },
  {
   "cell_type": "code",
   "execution_count": 120,
   "metadata": {},
   "outputs": [],
   "source": [
    "# Apply preprocessing, feature transformation, and clustering from the general\n",
    "# demographics onto the customer data, obtaining cluster predictions for the\n",
    "# customer demographics data.\n",
    "customers_cleaned = clean_data(customers)"
   ]
  },
  {
   "cell_type": "code",
   "execution_count": 121,
   "metadata": {},
   "outputs": [
    {
     "name": "stdout",
     "output_type": "stream",
     "text": [
      "GEBAEUDETYP_5.0\n"
     ]
    }
   ],
   "source": [
    "for column in azdias_scaled.columns:\n",
    "    if column not in customers_cleaned.columns:\n",
    "        print(column)"
   ]
  },
  {
   "cell_type": "code",
   "execution_count": 122,
   "metadata": {},
   "outputs": [],
   "source": [
    "customers_cleaned['GEBAEUDETYP_5.0'] = 0\n",
    "#this column was missing from customer dataset after one-hot encoding"
   ]
  },
  {
   "cell_type": "code",
   "execution_count": 123,
   "metadata": {},
   "outputs": [],
   "source": [
    "customer_reduced = pca.transform(scaler.transform(imputer.transform(customers_cleaned)))\n",
    "\n",
    "customer_clusters = kmeans.predict(customer_reduced)"
   ]
  },
  {
   "cell_type": "markdown",
   "metadata": {},
   "source": [
    "### Step 3.3: Compare Customer Data to Demographics Data\n",
    "\n",
    "At this point, you have clustered data based on demographics of the general population of Germany, and seen how the customer data for a mail-order sales company maps onto those demographic clusters. In this final substep, you will compare the two cluster distributions to see where the strongest customer base for the company is.\n",
    "\n",
    "Consider the proportion of persons in each cluster for the general population, and the proportions for the customers. If we think the company's customer base to be universal, then the cluster assignment proportions should be fairly similar between the two. If there are only particular segments of the population that are interested in the company's products, then we should see a mismatch from one to the other. If there is a higher proportion of persons in a cluster for the customer data compared to the general population (e.g. 5% of persons are assigned to a cluster for the general population, but 15% of the customer data is closest to that cluster's centroid) then that suggests the people in that cluster to be a target audience for the company. On the other hand, the proportion of the data in a cluster being larger in the general population than the customer data (e.g. only 2% of customers closest to a population centroid that captures 6% of the data) suggests that group of persons to be outside of the target demographics.\n",
    "\n",
    "Take a look at the following points in this step:\n",
    "\n",
    "- Compute the proportion of data points in each cluster for the general population and the customer data. Visualizations will be useful here: both for the individual dataset proportions, but also to visualize the ratios in cluster representation between groups. Seaborn's [`countplot()`](https://seaborn.pydata.org/generated/seaborn.countplot.html) or [`barplot()`](https://seaborn.pydata.org/generated/seaborn.barplot.html) function could be handy.\n",
    "  - Recall the analysis you performed in step 1.1.3 of the project, where you separated out certain data points from the dataset if they had more than a specified threshold of missing values. If you found that this group was qualitatively different from the main bulk of the data, you should treat this as an additional data cluster in this analysis. Make sure that you account for the number of data points in this subset, for both the general population and customer datasets, when making your computations!\n",
    "- Which cluster or clusters are overrepresented in the customer dataset compared to the general population? Select at least one such cluster and infer what kind of people might be represented by that cluster. Use the principal component interpretations from step 2.3 or look at additional components to help you make this inference. Alternatively, you can use the `.inverse_transform()` method of the PCA and StandardScaler objects to transform centroids back to the original data space and interpret the retrieved values directly.\n",
    "- Perform a similar investigation for the underrepresented clusters. Which cluster or clusters are underrepresented in the customer dataset compared to the general population, and what kinds of people are typified by these clusters?"
   ]
  },
  {
   "cell_type": "code",
   "execution_count": 146,
   "metadata": {},
   "outputs": [],
   "source": [
    "# Compare the proportion of data in each cluster for the customer data to the\n",
    "# proportion of data in each cluster for the general population.\n",
    "gen_pop = azdias_scaled.shape[0]\n",
    "gen_pop_all = azdias.shape[0] #including all dropped high NaN data\n",
    "\n",
    "customer_pop = customers_cleaned.shape[0]\n",
    "customer_pop_all = customers.shape[0] #including all customers with high NaN data\n",
    "\n",
    "gen_pop_cluster_count = np.bincount(kmeans_pred)\n",
    "customer_cluster_count = np.bincount(customer_clusters)\n",
    "\n",
    "gen_pop_cluster_prop = [x/gen_pop for x in gen_pop_cluster_count]\n",
    "customer_cluster_prop = [x/customer_pop for x in customer_cluster_count]"
   ]
  },
  {
   "cell_type": "code",
   "execution_count": 147,
   "metadata": {},
   "outputs": [],
   "source": [
    "prop_data = pd.DataFrame({'gen_pop': gen_pop_cluster_prop, 'customers': customer_cluster_prop}, index=np.arange(1,11))\n",
    "prop_data.index.names=['Cluster']"
   ]
  },
  {
   "cell_type": "code",
   "execution_count": 148,
   "metadata": {},
   "outputs": [],
   "source": [
    "#create data frame where each entry in `gen_pop` is % of gen_pop in a cluster\n",
    "# each entry in `customers` is% of customer population in a cluster\n",
    "prop_data_all = pd.DataFrame({'gen_pop': [x/gen_pop_all for x in gen_pop_cluster_count], \n",
    "                              'customers': [x/customer_pop_all for x in customer_cluster_count]},\n",
    "                             index=np.arange(1,11))\n",
    "prop_data_all.index.names=['Cluster']"
   ]
  },
  {
   "cell_type": "code",
   "execution_count": 143,
   "metadata": {},
   "outputs": [
    {
     "data": {
      "text/plain": [
       "<matplotlib.figure.Figure at 0x7f89813dcc88>"
      ]
     },
     "metadata": {},
     "output_type": "display_data"
    },
    {
     "data": {
      "image/png": "[encoded data removed]",
      "text/plain": [
       "<matplotlib.figure.Figure at 0x7f8984111cc0>"
      ]
     },
     "metadata": {},
     "output_type": "display_data"
    }
   ],
   "source": [
    "'''CLUSTER COUNT - LOW NAN DATA'''\n",
    "\n",
    "plt.figure(figsize=(10,5)) # this creates a figure 14 inch wide, 4 inch high\n",
    "fig, (ax1, ax2) = plt.subplots(1,2, sharey=False)\n",
    "fig.suptitle('Cluster Count - Low NaN Data')\n",
    "ax1.set_title('General Population')\n",
    "ax2.set_title('Customer Population')\n",
    "sns.countplot(kmeans_pred+1, ax=ax1)\n",
    "sns.countplot(customer_clusters+1, ax=ax2)\n",
    "plt.show()"
   ]
  },
  {
   "cell_type": "code",
   "execution_count": 142,
   "metadata": {},
   "outputs": [
    {
     "data": {
      "text/plain": [
       "<matplotlib.figure.Figure at 0x7f8983f9e860>"
      ]
     },
     "metadata": {},
     "output_type": "display_data"
    },
    {
     "data": {
      "image/png": "[encoded data removed]",
      "text/plain": [
       "<matplotlib.figure.Figure at 0x7f8983f9e9b0>"
      ]
     },
     "metadata": {},
     "output_type": "display_data"
    }
   ],
   "source": [
    "'''CLUSTER PROPORTION - LOW NAN DATA'''\n",
    "\n",
    "plt.figure(figsize=(14,4)) # this creates a figure 14 inch wide, 4 inch high\n",
    "fig, (ax1, ax2) = plt.subplots(1,2, sharey=True)\n",
    "fig.suptitle('Cluster Proportion - Low NaN Data')\n",
    "ax1.set_title('General Population')\n",
    "ax2.set_title('Customer Population')\n",
    "sns.barplot(x=prop_data.index, y=prop_data.gen_pop, ax=ax1)\n",
    "sns.barplot(x=prop_data.index, y=prop_data.customers, ax=ax2)\n",
    "plt.show()"
   ]
  },
  {
   "cell_type": "code",
   "execution_count": 151,
   "metadata": {},
   "outputs": [
    {
     "data": {
      "text/plain": [
       "<matplotlib.figure.Figure at 0x7f8981675cc0>"
      ]
     },
     "metadata": {},
     "output_type": "display_data"
    },
    {
     "data": {
      "image/png": "[encoded data removed]",
      "text/plain": [
       "<matplotlib.figure.Figure at 0x7f8981675ef0>"
      ]
     },
     "metadata": {},
     "output_type": "display_data"
    }
   ],
   "source": [
    "'''CLUSTER PROPORTION - ALL DATA'''\n",
    "\n",
    "plt.figure(figsize=(14,4)) # this creates a figure 14 inch wide, 4 inch high\n",
    "fig, (ax1, ax2) = plt.subplots(1,2, sharey=True)\n",
    "fig.suptitle('Cluster Proportion - All Data')\n",
    "ax1.set_title('General Population')\n",
    "ax2.set_title('Customer Population')\n",
    "sns.barplot(x=prop_data_all.index, y=prop_data_all.gen_pop, ax=ax1)\n",
    "sns.barplot(x=prop_data_all.index, y=prop_data_all.customers, ax=ax2)\n",
    "plt.show()"
   ]
  },
  {
   "cell_type": "code",
   "execution_count": 163,
   "metadata": {},
   "outputs": [
    {
     "name": "stdout",
     "output_type": "stream",
     "text": [
      "\n",
      " Cluster Representation - LOW NaN Data\n",
      "----------\n",
      "\n",
      "Cluster 1: UNDER represented by -4.29%\n",
      "Cluster 2: UNDER represented by -12.29%\n",
      "Cluster 3: UNDER represented by -11.05%\n",
      "Cluster 4: UNDER represented by -8.89%\n",
      "Cluster 5: OVER represented by 87.12%\n",
      "Cluster 6: UNDER represented by -8.95%\n",
      "Cluster 7: UNDER represented by -4.84%\n",
      "Cluster 8: UNDER represented by -12.59%\n",
      "Cluster 9: UNDER represented by -10.46%\n",
      "Cluster 10: UNDER represented by -13.76%\n"
     ]
    }
   ],
   "source": [
    "''' What kinds of people are part of a cluster that is overrepresented \n",
    "in the customer data compared to the general population?'''\n",
    "\n",
    "rep = {}\n",
    "\n",
    "print('\\n Cluster Representation - LOW NaN Data\\n----------\\n')\n",
    "for i in np.arange(0,10):\n",
    "    a = customer_cluster_prop[i]\n",
    "    b = gen_pop_cluster_prop[i]\n",
    "    rep[i+1] = (a-b)*100\n",
    "\n",
    "for x in full_rep:\n",
    "    if(full_rep[x]>0):\n",
    "        print('Cluster %s: OVER represented by %.2f%%'% (x, rep[x]))\n",
    "    elif(full_rep[x]<0):\n",
    "        print('Cluster %s: UNDER represented by %.2f%%'% (x, rep[x]))"
   ]
  },
  {
   "cell_type": "code",
   "execution_count": 161,
   "metadata": {},
   "outputs": [
    {
     "name": "stdout",
     "output_type": "stream",
     "text": [
      "\n",
      " Cluster Over Representation - FULL Population\n",
      "----------\n",
      "\n",
      "Cluster 1: UNDER represented by -3.84%\n",
      "Cluster 2: UNDER represented by -11.01%\n",
      "Cluster 3: UNDER represented by -9.90%\n",
      "Cluster 4: UNDER represented by -7.96%\n",
      "Cluster 5: OVER represented by 62.52%\n",
      "Cluster 6: UNDER represented by -8.03%\n",
      "Cluster 7: UNDER represented by -4.33%\n",
      "Cluster 8: UNDER represented by -11.28%\n",
      "Cluster 9: UNDER represented by -9.39%\n",
      "Cluster 10: UNDER represented by -12.35%\n"
     ]
    }
   ],
   "source": [
    "full_rep = {}\n",
    "\n",
    "print('\\n Cluster Over Representation - FULL Population\\n----------\\n')\n",
    "for i in np.arange(0,10):\n",
    "    a = prop_data_all.customers.iloc[i]\n",
    "    b = prop_data_all.gen_pop.iloc[i]\n",
    "    full_rep[i+1] = (a-b)*100\n",
    "\n",
    "for x in full_rep:\n",
    "    if(full_rep[x]>0):\n",
    "        print('Cluster %s: OVER represented by %.2f%%'% (x, full_rep[x]))\n",
    "    elif(full_rep[x]<0):\n",
    "        print('Cluster %s: UNDER represented by %.2f%%'% (x, full_rep[x]))\n"
   ]
  },
  {
   "cell_type": "code",
   "execution_count": 166,
   "metadata": {},
   "outputs": [
    {
     "name": "stdout",
     "output_type": "stream",
     "text": [
      "sorted array\n",
      "-----\n",
      " [-2.27 -2.05 -1.5  -0.82 -0.7  -0.58 -0.49 -0.38 -0.33 -0.29 -0.28 -0.26\n",
      " -0.23 -0.19 -0.19 -0.19 -0.19 -0.13 -0.12 -0.09 -0.08 -0.07 -0.06 -0.05\n",
      " -0.05 -0.05 -0.04 -0.04 -0.03 -0.03 -0.02 -0.02 -0.02 -0.02 -0.01  0.\n",
      "  0.01  0.01  0.03  0.03  0.03  0.04  0.04  0.05  0.05  0.07  0.08  0.08\n",
      "  0.09  0.1   0.1   0.11  0.14  0.15  0.16  0.16  0.18  0.23  0.23  0.3\n",
      "  0.33  0.35  0.36  0.42  0.48  0.53  0.96  0.97  1.22  1.27  1.5   1.63\n",
      "  1.76  2.12  4.51]\n",
      "\n",
      " original array\n",
      "-----\n",
      " [-2.27 -0.23  0.96  1.63  0.42  2.12  4.51 -0.82  1.22 -0.28 -2.05  0.23\n",
      "  1.76  0.33  1.27 -0.7   0.14  0.3  -1.5   0.09  0.53  0.97  0.48  1.5\n",
      " -0.49 -0.26 -0.05 -0.29 -0.33 -0.19  0.    0.01 -0.04  0.23 -0.58  0.11\n",
      "  0.08 -0.13  0.15  0.01  0.04  0.35 -0.08 -0.07 -0.19  0.36 -0.05 -0.05\n",
      " -0.38 -0.02  0.03  0.1   0.04 -0.09  0.08 -0.06 -0.04 -0.02 -0.02  0.07\n",
      "  0.03 -0.03  0.16 -0.12  0.03  0.05 -0.19 -0.01 -0.02 -0.03 -0.19  0.16\n",
      "  0.18  0.1   0.05]\n"
     ]
    }
   ],
   "source": [
    "#cluster 1 investigation\n",
    "cluster_center_10 = np.around(kmeans_fit.cluster_centers_[9], decimals=2)\n",
    "print('sorted array\\n-----\\n %s'% cluster_center_1[np.argsort(cluster_center_1)[:]])\n",
    "print('\\n original array\\n-----\\n %s'%cluster_center_1)"
   ]
  },
  {
   "cell_type": "code",
   "execution_count": 165,
   "metadata": {},
   "outputs": [
    {
     "name": "stdout",
     "output_type": "stream",
     "text": [
      "sorted array\n",
      "-----\n",
      " [-3.58 -2.76 -2.2  -1.19 -0.43 -0.41 -0.31 -0.31 -0.25 -0.2  -0.19 -0.18\n",
      " -0.16 -0.15 -0.14 -0.14 -0.12 -0.11 -0.1  -0.09 -0.09 -0.08 -0.08 -0.08\n",
      " -0.07 -0.07 -0.06 -0.05 -0.05 -0.04 -0.04 -0.04 -0.03 -0.03 -0.03 -0.02\n",
      " -0.02 -0.02 -0.02 -0.02 -0.02 -0.01 -0.01 -0.01  0.    0.    0.01  0.01\n",
      "  0.02  0.02  0.02  0.03  0.04  0.04  0.04  0.05  0.05  0.06  0.07  0.07\n",
      "  0.08  0.08  0.08  0.11  0.12  0.13  0.18  0.19  0.38  0.39  0.61  0.61\n",
      "  1.05  1.1   1.39]\n",
      "\n",
      " original array\n",
      "-----\n",
      " [-2.76 -3.58 -0.14 -1.19  1.05 -2.2   1.1   1.39 -0.09 -0.18 -0.02  0.61\n",
      " -0.2  -0.31 -0.25  0.07 -0.43 -0.31  0.61 -0.15 -0.41  0.39 -0.07  0.\n",
      "  0.05 -0.19  0.02  0.12  0.11  0.13  0.38 -0.02  0.18 -0.11  0.06  0.02\n",
      " -0.16  0.19 -0.07 -0.14  0.04 -0.04 -0.08 -0.12  0.05  0.08 -0.01 -0.09\n",
      " -0.08 -0.02 -0.03 -0.02  0.07  0.    0.08 -0.03  0.04  0.08 -0.01  0.02\n",
      " -0.02 -0.1  -0.02 -0.01 -0.04 -0.04 -0.05  0.01 -0.03  0.01  0.04  0.03\n",
      " -0.08 -0.05 -0.06]\n"
     ]
    }
   ],
   "source": [
    "#cluster 5 investigation\n",
    "cluster_center_5 = np.around(kmeans_fit.cluster_centers_[4], decimals=2)\n",
    "print('sorted array\\n-----\\n %s'% cluster_center_5[np.argsort(cluster_center_5)[:]])\n",
    "print('\\n original array\\n-----\\n %s'%cluster_center_5)"
   ]
  },
  {
   "cell_type": "markdown",
   "metadata": {},
   "source": [
    "### Discussion 3.3: Compare Customer Data to Demographics Data\n",
    "\n",
    "(Double-click this cell and replace this text with your own text, reporting findings and conclusions from the clustering analysis. Can we describe segments of the population that are relatively popular with the mail-order company, or relatively unpopular with the company?)\n",
    "\n",
    "When including the population count for all including those we dropped for analysis as they had missing data, the culsters: `1`,`3`,`10` were the most over represented in the customer data compared to the general population data (`2.48%`, `0.2%`, `1.43%`. This was at a higher percentage for low-NaN data: `6.32%`, `2.9%` and `3.09%` respectively). Based on the full general population data, it seems that cluster `3` is represented similarly in both general population and customer data, so we can exclude it from the 'over-represented' category. Other than clusters `7`, and `8` were also very closely represented.\n",
    "\n",
    "The must under-represented compared to full population data were clusters: `4`, `5`, by a substantial `4.72%` and `6.17%` respectively.\n",
    "\n",
    "\n",
    "#### Over-Represented Cluster: #5\n",
    "Based on the cluster centers, the highest value principal components are `PC8`, `PC7`, and `PC5` whereas the lowest value principal component are `PC2`, `PC1`, and `PC6`\n",
    "\n",
    "*Most Value*\n",
    "   * `PC8` is correlated the most with families with children, especially teenagers, as well as aspiring average to low-income earners.\n",
    "   * `PC7` is correlated most with independent workers and title-holder households, as well as residing in a mixed use building\n",
    "   * `PC5`: correlated with number of adults in household, family living in two-generational household, as well as an inverse correlation with region purchasing power (more expensive regions)\n",
    "    \n",
    "*Least Value*\n",
    "   * `PC2`: is correlated with age, low financial preparedness.\n",
    "   * `PC1`: correlated with low income, and a region with higher share of 6-10 family homes\n",
    "   * `PC6`: average earning villagers who live in multi generational households, and is correlated with lack of home-ownership.\n",
    "   \n",
    "   \n",
    "This means that generally speaking aspiring independent families with children, who live in mixed-use mulit-generational housing and in areas where purchasing power is low are over represented in the customer cluster data compared to the general population.\n",
    "__These are the people that are most important to the business of the company__\n",
    "\n",
    "----\n",
    "\n",
    "#### Under-Represented Cluster: #10\n",
    "Based on the cluster centers, the highest value principal components are: `PC7`,`PC6`, `PC 13`, and the lowest value principal components are: `PC1`, `PC11`, and `PC19`\n",
    "\n",
    "*Most Value*\n",
    "* `PC6` is correlated with average earning villagers who live in multi generational households, and is correlated with lack of home-ownership.\n",
    "* `PC13` is correlated with working-class, multi-cultural youth.\n",
    "\n",
    "*Least Value*\n",
    "* `PC11` is most correlated with single-parents, high share of 10+ family houses, and an established middle class\n",
    "* `PC19` is most correlated with older upper class people.\n",
    "\n",
    "This means that the most under represented cluster in our analysis contains people who are younger and don't own homes, as well as being more working class and multi-cultured."
   ]
  },
  {
   "cell_type": "markdown",
   "metadata": {},
   "source": [
    "> Congratulations on making it this far in the project! Before you finish, make sure to check through the entire notebook from top to bottom to make sure that your analysis follows a logical flow and all of your findings are documented in **Discussion** cells. Once you've checked over all of your work, you should export the notebook as an HTML document to submit for evaluation. You can do this from the menu, navigating to **File -> Download as -> HTML (.html)**. You will submit both that document and this notebook for your project submission."
   ]
  },
  {
   "cell_type": "code",
   "execution_count": null,
   "metadata": {},
   "outputs": [],
   "source": []
  }
 ],
 "metadata": {
  "kernelspec": {
   "display_name": "Python 3",
   "language": "python",
   "name": "python3"
  },
  "language_info": {
   "codemirror_mode": {
    "name": "ipython",
    "version": 3
   },
   "file_extension": ".py",
   "mimetype": "text/x-python",
   "name": "python",
   "nbconvert_exporter": "python",
   "pygments_lexer": "ipython3",
   "version": "3.6.3"
  }
 },
 "nbformat": 4,
 "nbformat_minor": 2
}
